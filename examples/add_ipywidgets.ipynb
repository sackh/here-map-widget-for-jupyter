{
 "cells": [
  {
   "cell_type": "code",
   "execution_count": null,
   "metadata": {},
   "outputs": [],
   "source": [
    "from here_map_widget import WidgetControl, Map\n",
    "from ipywidgets import IntSlider, ColorPicker, jslink\n",
    "import os \n",
    "\n",
    "m = Map(api_key=os.environ['LS_API_KEY'])\n",
    "\n",
    "zoom_slider = IntSlider(description='Zoom level:', min=0, max=15, value=7)\n",
    "jslink((zoom_slider, 'value'), (m, 'zoom'))\n",
    "widget_control1 = WidgetControl(widget=zoom_slider, alignment=\"TOP_RIGHT\", name=\"IntSlider\")\n",
    "\n",
    "color_picker = ColorPicker(description='Pick a color:')\n",
    "widget_control2 = WidgetControl(widget=color_picker, alignment=\"BOTTOM_RIGHT\", name=\"ColorPicker\")\n",
    "\n",
    "m.add_control(widget_control1)\n",
    "m.add_control(widget_control2)\n",
    "m"
   ]
  },
  {
   "cell_type": "code",
   "execution_count": null,
   "metadata": {},
   "outputs": [],
   "source": [
    "from here_map_widget import WidgetControl, Map\n",
    "from ipywidgets import FloatSlider, ColorPicker, jslink\n",
    "import os \n",
    "\n",
    "m = Map(api_key=os.environ['LS_API_KEY'])\n",
    "\n",
    "zoom_slider = FloatSlider(description='Tilt level:', min=0, max=90, value=0)\n",
    "jslink((zoom_slider, 'value'), (m, 'tilt'))\n",
    "widget_control1 = WidgetControl(widget=zoom_slider, alignment=\"TOP_RIGHT\", name=\"FloatSlider\")\n",
    "\n",
    "m.add_control(widget_control1)\n",
    "m"
   ]
  }
 ],
 "metadata": {
  "kernelspec": {
   "display_name": "Python 3",
   "language": "python",
   "name": "python3"
  },
  "language_info": {
   "codemirror_mode": {
    "name": "ipython",
    "version": 3
   },
   "file_extension": ".py",
   "mimetype": "text/x-python",
   "name": "python",
   "nbconvert_exporter": "python",
   "pygments_lexer": "ipython3",
   "version": "3.8.5"
  }
 },
 "nbformat": 4,
 "nbformat_minor": 4
}
