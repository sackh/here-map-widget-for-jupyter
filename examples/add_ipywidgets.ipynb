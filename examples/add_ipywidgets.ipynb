{
 "cells": [
  {
   "cell_type": "markdown",
   "metadata": {},
   "source": [
    "<div class=\"alert alert-block alert-warning\">\n",
    "<b>Warning:</b> Before running below cells please make sure you have API key. \n",
    "                Please see <a href=\"https://github.com/heremaps/here-map-widget-for-jupyter/blob/master/examples/README.md\">README.md</a> for more info on API key.\n",
    "</div>"
   ]
  },
  {
   "cell_type": "code",
   "execution_count": null,
   "metadata": {},
   "outputs": [],
   "source": [
    "import os\n",
    "\n",
    "os.environ[\"LS_API_KEY\"] = \"MY-API-KEY\"  # replace your API key here."
   ]
  },
  {
   "cell_type": "code",
   "execution_count": null,
   "metadata": {},
   "outputs": [],
   "source": [
    "from here_map_widget import WidgetControl, Map\n",
    "from ipywidgets import IntSlider, ColorPicker, jslink\n",
    "import os\n",
    "\n",
    "m = Map(api_key=os.environ[\"LS_API_KEY\"])\n",
    "\n",
    "zoom_slider = IntSlider(description=\"Zoom level:\", min=0, max=15, value=7)\n",
    "jslink((zoom_slider, \"value\"), (m, \"zoom\"))\n",
    "widget_control1 = WidgetControl(widget=zoom_slider, alignment=\"TOP_RIGHT\", name=\"IntSlider\")\n",
    "\n",
    "color_picker = ColorPicker(description=\"Pick a color:\")\n",
    "widget_control2 = WidgetControl(widget=color_picker, alignment=\"BOTTOM_RIGHT\", name=\"ColorPicker\")\n",
    "\n",
    "m.add_control(widget_control1)\n",
    "m.add_control(widget_control2)\n",
    "m"
   ]
  },
  {
   "cell_type": "code",
   "execution_count": null,
   "metadata": {},
   "outputs": [],
   "source": [
    "from here_map_widget import WidgetControl, Map\n",
    "from ipywidgets import FloatSlider, ColorPicker, jslink\n",
    "import os\n",
    "\n",
    "m = Map(api_key=os.environ[\"LS_API_KEY\"])\n",
    "\n",
    "zoom_slider = FloatSlider(description=\"Tilt level:\", min=0, max=90, value=0)\n",
    "jslink((zoom_slider, \"value\"), (m, \"tilt\"))\n",
    "widget_control1 = WidgetControl(widget=zoom_slider, alignment=\"TOP_RIGHT\", name=\"FloatSlider\")\n",
    "\n",
    "m.add_control(widget_control1)\n",
    "m"
   ]
  },
  {
   "cell_type": "code",
   "execution_count": null,
   "metadata": {},
   "outputs": [],
   "source": [
    "# Camera rotate example\n",
    "\n",
    "import os\n",
    "\n",
    "from here_map_widget import Map, WidgetControl\n",
    "from ipywidgets import IntSlider, jslink\n",
    "\n",
    "m = Map(api_key=os.environ[\"LS_API_KEY\"], center=[40.70808, -74.01426], zoom=16, tilt=45)\n",
    "\n",
    "rotate_slider = IntSlider(description=\"Rotate:\", min=0, max=360, value=0)\n",
    "jslink((rotate_slider, \"value\"), (m, \"heading\"))\n",
    "widget_control = WidgetControl(widget=rotate_slider, alignment=\"TOP_RIGHT\", name=\"RotateSlider\")\n",
    "\n",
    "m.add_control(widget_control)\n",
    "m"
   ]
  }
 ],
 "metadata": {
  "kernelspec": {
   "display_name": "Python 3 (ipykernel)",
   "language": "python",
   "name": "python3"
  },
  "language_info": {
   "codemirror_mode": {
    "name": "ipython",
    "version": 3
   },
   "file_extension": ".py",
   "mimetype": "text/x-python",
   "name": "python",
   "nbconvert_exporter": "python",
   "pygments_lexer": "ipython3",
   "version": "3.9.6"
  }
 },
 "nbformat": 4,
 "nbformat_minor": 4
}
