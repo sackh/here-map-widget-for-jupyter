{
 "cells": [
  {
   "cell_type": "markdown",
   "metadata": {},
   "source": [
    "<div class=\"alert alert-block alert-warning\">\n",
    "<b>Warning:</b> Before running below cells please make sure you have API key. \n",
    "                Please see <a href=\"https://github.com/heremaps/here-map-widget-for-jupyter/blob/master/examples/README.md\">README.md</a> for more info on API key.\n",
    "</div>"
   ]
  },
  {
   "cell_type": "code",
   "execution_count": null,
   "metadata": {},
   "outputs": [],
   "source": [
    "import os\n",
    "\n",
    "os.environ[\"LS_API_KEY\"] = \"MY-API-KEY\"  # replace your API key here."
   ]
  },
  {
   "cell_type": "code",
   "execution_count": null,
   "metadata": {},
   "outputs": [],
   "source": [
    "import geopandas\n",
    "import json\n",
    "from here_map_widget import Map, GeoData, FullscreenControl\n",
    "import os\n",
    "\n",
    "rivers = geopandas.read_file(\n",
    "    \"https://www.naturalearthdata.com/http//www.naturalearthdata.com/download/10m/physical/ne_10m_rivers_lake_centerlines.zip\"\n",
    ")\n",
    "\n",
    "m = Map(center=(52.3, 8.0), zoom=3, api_key=os.environ[\"LS_API_KEY\"])\n",
    "\n",
    "rivers_data = GeoData(\n",
    "    geo_dataframe=rivers,\n",
    "    style={\"strokeColor\": \"rgba(128,0,128,1)\"},\n",
    "    hover_style={\"strokeColor\": \"rgba(255,0,0,1)\"},\n",
    "    name=\"Rivers\",\n",
    ")\n",
    "\n",
    "m.add_layer(rivers_data)\n",
    "m.add_control(FullscreenControl())\n",
    "m"
   ]
  }
 ],
 "metadata": {
  "kernelspec": {
   "display_name": "Python 3",
   "language": "python",
   "name": "python3"
  },
  "language_info": {
   "codemirror_mode": {
    "name": "ipython",
    "version": 3
   },
   "file_extension": ".py",
   "mimetype": "text/x-python",
   "name": "python",
   "nbconvert_exporter": "python",
   "pygments_lexer": "ipython3",
   "version": "3.7.9"
  }
 },
 "nbformat": 4,
 "nbformat_minor": 4
}
