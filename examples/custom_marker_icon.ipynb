{
 "cells": [
  {
   "cell_type": "code",
   "execution_count": null,
   "metadata": {},
   "outputs": [],
   "source": [
    "from here_map_widget import Marker, Icon\n",
    "\n",
    "center = [40.82859218023296, -73.89739292971197]\n",
    "i = Icon(bitmap='marker_image.png', height=60, width=60)\n",
    "marker = Marker(lat=center[0], lng=center[1], icon=i)"
   ]
  },
  {
   "cell_type": "code",
   "execution_count": null,
   "metadata": {},
   "outputs": [],
   "source": [
    "from here_map_widget import Map\n",
    "from here_map_widget import GeoJSON\n",
    "import os \n",
    "\n",
    "m = Map(api_key=os.environ['LS_API_KEY'], center=center, zoom=17.847987922471717, tilt=51.031054687499804, heading=163.63541103795387)\n",
    "m.add_object(marker)\n",
    "m"
   ]
  }
 ],
 "metadata": {
  "kernelspec": {
   "display_name": "Python 3",
   "language": "python",
   "name": "python3"
  },
  "language_info": {
   "codemirror_mode": {
    "name": "ipython",
    "version": 3
   },
   "file_extension": ".py",
   "mimetype": "text/x-python",
   "name": "python",
   "nbconvert_exporter": "python",
   "pygments_lexer": "ipython3",
   "version": "3.8.5"
  }
 },
 "nbformat": 4,
 "nbformat_minor": 4
}
