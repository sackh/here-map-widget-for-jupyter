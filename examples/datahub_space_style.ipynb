{
 "cells": [
  {
   "cell_type": "code",
   "execution_count": null,
   "metadata": {},
   "outputs": [],
   "source": [
    "#Create a normal map view\n",
    "from here_map_widget import TileLayer, XYZ \n",
    "from here_map_widget import Map\n",
    "import os\n",
    "\n",
    "m = Map(api_key=os.environ['LS_API_KEY'])\n",
    "m.center = [44.20022717941052, -72.75660780639646]\n"
   ]
  },
  {
   "cell_type": "code",
   "execution_count": null,
   "metadata": {},
   "outputs": [],
   "source": [
    "with open('xyz_style.yaml') as fh: \n",
    "    config = fh.read()"
   ]
  },
  {
   "cell_type": "code",
   "execution_count": null,
   "metadata": {},
   "outputs": [],
   "source": [
    "from here_map_widget import Style\n",
    "\n",
    "st = Style(config=config)\n",
    "\n",
    "xyz_token = os.environ['XYZ_TOKEN']\n",
    "provider = XYZ(space_id='m2pcsiNi', token=xyz_token, show_bubble=True, style=st)\n",
    "space = TileLayer(provider=provider)\n",
    "m.add_layer(space)\n",
    "m"
   ]
  }
 ],
 "metadata": {
  "kernelspec": {
   "display_name": "Python 3",
   "language": "python",
   "name": "python3"
  },
  "language_info": {
   "codemirror_mode": {
    "name": "ipython",
    "version": 3
   },
   "file_extension": ".py",
   "mimetype": "text/x-python",
   "name": "python",
   "nbconvert_exporter": "python",
   "pygments_lexer": "ipython3",
   "version": "3.8.5"
  }
 },
 "nbformat": 4,
 "nbformat_minor": 4
}
