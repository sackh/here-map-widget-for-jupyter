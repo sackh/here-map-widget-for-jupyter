{
 "cells": [
  {
   "cell_type": "code",
   "execution_count": null,
   "metadata": {},
   "outputs": [],
   "source": [
    "from here_map_widget import Map, Marker, WKT, Icon\n",
    "import os\n",
    "\n",
    "m = Map(api_key=os.environ['LS_API_KEY'], zoom=12)\n",
    "m.center = [19.1663, 72.8526]\n",
    "m"
   ]
  },
  {
   "cell_type": "code",
   "execution_count": null,
   "metadata": {},
   "outputs": [],
   "source": [
    "# Svg Icon example \n",
    "\n",
    "svg_markup = '<svg width=\"24\" height=\"24\" ' + \\\n",
    "    'xmlns=\"http://www.w3.org/2000/svg\">' + \\\n",
    "    '<rect stroke=\"white\" fill=\"#1b468d\" x=\"1\" y=\"1\" width=\"22\" ' + \\\n",
    "    'height=\"22\" /><text x=\"12\" y=\"18\" font-size=\"15pt\" ' + \\\n",
    "    'font-family=\"Arial\" font-weight=\"bold\" text-anchor=\"middle\" ' + \\\n",
    "    'fill=\"white\">M</text></svg>'\n",
    "\n",
    "svg_icon = Icon(bitmap=svg_markup, height=30, width=30)\n",
    "\n",
    "mumbai_marker = Marker(lat=19.1663, lng=72.8526, icon=svg_icon)\n",
    "m.add_object(mumbai_marker)"
   ]
  },
  {
   "cell_type": "code",
   "execution_count": null,
   "metadata": {},
   "outputs": [],
   "source": [
    "m.remove_object(mumbai_marker)"
   ]
  }
 ],
 "metadata": {
  "kernelspec": {
   "display_name": "Python 3",
   "language": "python",
   "name": "python3"
  },
  "language_info": {
   "codemirror_mode": {
    "name": "ipython",
    "version": 3
   },
   "file_extension": ".py",
   "mimetype": "text/x-python",
   "name": "python",
   "nbconvert_exporter": "python",
   "pygments_lexer": "ipython3",
   "version": "3.8.5"
  }
 },
 "nbformat": 4,
 "nbformat_minor": 4
}
