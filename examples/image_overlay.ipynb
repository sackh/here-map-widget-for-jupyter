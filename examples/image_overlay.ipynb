{
 "cells": [
  {
   "cell_type": "markdown",
   "metadata": {},
   "source": [
    "<div class=\"alert alert-block alert-warning\">\n",
    "<b>Warning:</b> Before running below cells please make sure you have API key. \n",
    "                Please see <a href=\"https://github.com/heremaps/here-map-widget-for-jupyter/blob/master/examples/README.md\">README.md</a> for more info on API key.\n",
    "</div>"
   ]
  },
  {
   "cell_type": "code",
   "execution_count": null,
   "metadata": {},
   "outputs": [],
   "source": [
    "import os\n",
    "\n",
    "os.environ[\"LS_API_KEY\"] = \"MY-API-KEY\"  # replace your API key here."
   ]
  },
  {
   "cell_type": "code",
   "execution_count": null,
   "metadata": {},
   "outputs": [],
   "source": [
    "from here_map_widget import Map, Overlay, Rectangle, Bbox, FullscreenControl\n",
    "from ipywidgets import Image\n",
    "import os\n",
    "\n",
    "m = Map(api_key=os.environ[\"LS_API_KEY\"])\n",
    "m.center = [53.1, 13.1]\n",
    "m.zoom = 3\n",
    "bbox = Bbox(\n",
    "    top=70.72849153520343,\n",
    "    left=-24.085683364175395,\n",
    "    bottom=29.569664922291,\n",
    "    right=44.216452317817016,\n",
    ")\n",
    "\n",
    "overlay = Overlay(\n",
    "    boundingBox=bbox,\n",
    "    bitmap=\"https://heremaps.github.io/maps-api-for-javascript-examples/image-overlay/data/0.png\",\n",
    "    volatility=True,\n",
    ")\n",
    "m.add_object(overlay)\n",
    "m.add_control(FullscreenControl())\n",
    "m"
   ]
  },
  {
   "cell_type": "code",
   "execution_count": null,
   "metadata": {},
   "outputs": [],
   "source": [
    "import time\n",
    "\n",
    "i = 0\n",
    "while True:\n",
    "    overlay.set_bitmap(\n",
    "        \"https://heremaps.github.io/maps-api-for-javascript-examples/image-overlay/data/{}.png\".format(\n",
    "            i\n",
    "        )\n",
    "    )\n",
    "    i = i + 1\n",
    "    if i == 11:\n",
    "        i = 0\n",
    "    time.sleep(0.25)"
   ]
  }
 ],
 "metadata": {
  "kernelspec": {
   "display_name": "Python 3",
   "language": "python",
   "name": "python3"
  },
  "language_info": {
   "codemirror_mode": {
    "name": "ipython",
    "version": 3
   },
   "file_extension": ".py",
   "mimetype": "text/x-python",
   "name": "python",
   "nbconvert_exporter": "python",
   "pygments_lexer": "ipython3",
   "version": "3.7.9"
  }
 },
 "nbformat": 4,
 "nbformat_minor": 4
}
