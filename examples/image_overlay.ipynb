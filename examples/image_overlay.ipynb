{
 "cells": [
  {
   "cell_type": "code",
   "execution_count": null,
   "metadata": {},
   "outputs": [],
   "source": [
    "from here_map_widget import Map, Overlay, Rectangle, Bbox, FullscreenControl\n",
    "from ipywidgets import Image\n",
    "import os\n",
    "\n",
    "m = Map(api_key=os.environ['LS_API_KEY'])\n",
    "m.center = [53.1, 13.1]\n",
    "m.zoom = 3\n",
    "bbox = Bbox(top=70.72849153520343, left=-24.085683364175395, bottom=29.569664922291, right=44.216452317817016)\n",
    "\n",
    "overlay = Overlay(boundingBox=bbox, bitmap='https://heremaps.github.io/maps-api-for-javascript-examples/image-overlay/data/0.png', volatility=True)\n",
    "m.add_object(overlay)\n",
    "m.add_control(FullscreenControl())\n",
    "m"
   ]
  },
  {
   "cell_type": "code",
   "execution_count": null,
   "metadata": {},
   "outputs": [],
   "source": [
    "import time\n",
    "\n",
    "i = 0\n",
    "while True:\n",
    "    overlay.set_bitmap('https://heremaps.github.io/maps-api-for-javascript-examples/image-overlay/data/{}.png'.format(i))\n",
    "    i = i+1\n",
    "    if i==11:\n",
    "        i=0\n",
    "    time.sleep(0.25)\n",
    "    "
   ]
  }
 ],
 "metadata": {
  "kernelspec": {
   "display_name": "Python 3",
   "language": "python",
   "name": "python3"
  },
  "language_info": {
   "codemirror_mode": {
    "name": "ipython",
    "version": 3
   },
   "file_extension": ".py",
   "mimetype": "text/x-python",
   "name": "python",
   "nbconvert_exporter": "python",
   "pygments_lexer": "ipython3",
   "version": "3.8.5"
  }
 },
 "nbformat": 4,
 "nbformat_minor": 4
}
