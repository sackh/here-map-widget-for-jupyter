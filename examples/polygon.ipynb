{
 "cells": [
  {
   "cell_type": "code",
   "execution_count": null,
   "metadata": {},
   "outputs": [],
   "source": [
    "# Polygon example using Linestring as Geometry object\n",
    "\n",
    "from here_map_widget import Map\n",
    "from here_map_widget import LineString, Polygon\n",
    "import os\n",
    "center = [51.1657, 10.4515]\n",
    "\n",
    "m = Map(api_key=os.environ['LS_API_KEY'], center=center)\n",
    "\n",
    "style = {\"strokeColor\": \"#829\", \"lineWidth\": 4}\n",
    "\n",
    "l = [52, 13, 100, 48, 2, 100, 48, 16, 100, 52, 13, 100]\n",
    "\n",
    "ls = LineString(points=l)\n",
    "\n",
    "pg = Polygon(object=ls, style=style, draggable=True)\n",
    "m.add_object(pg)\n",
    "m"
   ]
  },
  {
   "cell_type": "code",
   "execution_count": null,
   "metadata": {},
   "outputs": [],
   "source": [
    "# Polygon example using GeoPolygon as Geometry object\n",
    "\n",
    "from here_map_widget import Map, GeoPolygon, LineString, Polygon\n",
    "import os\n",
    "center = [51.1657, 10.4515]\n",
    "\n",
    "l = [52, 13, 100, 48, 2, 100, 48, 16, 100, 52, 13, 100]\n",
    "\n",
    "ls = LineString(points=l)\n",
    "\n",
    "gpg = GeoPolygon(linestring=ls)\n",
    "\n",
    "style = {\"strokeColor\": \"#829\", \"lineWidth\": 4}\n",
    "\n",
    "obj = Polygon(object=gpg, style=style, draggable=False)\n",
    "\n",
    "m = Map(api_key=os.environ['LS_API_KEY'], center=center)\n",
    "\n",
    "m.add_object(obj)\n",
    "m"
   ]
  },
  {
   "cell_type": "code",
   "execution_count": null,
   "metadata": {},
   "outputs": [],
   "source": [
    "# MultiPolygon example using GeoMultiPolygon as Geometry object\n",
    "from here_map_widget import Map, GeoPolygon, LineString, Polygon, GeoMultiPolygon\n",
    "import os\n",
    "\n",
    "center = [51.1657, 10.4515]\n",
    "m = Map(api_key=os.environ['LS_API_KEY'], center=center)\n",
    "\n",
    "l1 = [52, 13, 100, 48, 2, 100, 48, 16, 100, 52, 13, 100]\n",
    "\n",
    "ls1 = LineString(points=l1)\n",
    "\n",
    "gpg1 = GeoPolygon(linestring=ls1)\n",
    "\n",
    "style = {\"strokeColor\": \"#829\", \"lineWidth\": 4}\n",
    "\n",
    "l2 = [55, 19, 99, 52, 2, 100, 52, 16, 100, 55, 19, 99]\n",
    "ls2 = LineString(points=l2)\n",
    "\n",
    "gpg2 = GeoPolygon(linestring=ls2)\n",
    "\n",
    "gmp = GeoMultiPolygon(polygons=[gpg1])\n",
    "\n",
    "pg = Polygon(object=gmp, style=style, draggable=False)\n",
    "\n",
    "m.add_object(pg)\n",
    "m"
   ]
  },
  {
   "cell_type": "code",
   "execution_count": null,
   "metadata": {},
   "outputs": [],
   "source": [
    "gmp.push_polygon(gpg2)\n",
    "m"
   ]
  },
  {
   "cell_type": "code",
   "execution_count": null,
   "metadata": {},
   "outputs": [],
   "source": [
    "gmp.remove_polygon(gpg2)\n",
    "m"
   ]
  }
 ],
 "metadata": {
  "kernelspec": {
   "display_name": "Python 3",
   "language": "python",
   "name": "python3"
  },
  "language_info": {
   "codemirror_mode": {
    "name": "ipython",
    "version": 3
   },
   "file_extension": ".py",
   "mimetype": "text/x-python",
   "name": "python",
   "nbconvert_exporter": "python",
   "pygments_lexer": "ipython3",
   "version": "3.8.5"
  }
 },
 "nbformat": 4,
 "nbformat_minor": 4
}
