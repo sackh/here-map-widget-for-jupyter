{
 "cells": [
  {
   "cell_type": "code",
   "execution_count": null,
   "metadata": {},
   "outputs": [],
   "source": [
    "#Create a normal map view\n",
    "from here_map_widget import Map, MeasurementControl, Icon, Marker\n",
    "import os\n",
    "\n",
    "m = Map(api_key=os.environ['LS_API_KEY'])\n",
    "m.center = [44.20022717941052, -72.75660780639646]\n",
    "\n",
    "m"
   ]
  },
  {
   "cell_type": "code",
   "execution_count": null,
   "metadata": {},
   "outputs": [],
   "source": [
    "start_markup = '<svg width=\"20\" height=\"20\" version=\"1.1\" xmlns=\"http://www.w3.org/2000/svg\">' + '<circle cx=\"10\" cy=\"10\" r=\"7\" fill=\"transparent\" stroke=\"green\" stroke-width=\"4\"/>' + '</svg>'\n",
    "stopover_markup= '<svg width=\"20\" height=\"20\" version=\"1.1\" xmlns=\"http://www.w3.org/2000/svg\">' + '<circle cx=\"10\" cy=\"10\" r=\"7\" fill=\"transparent\" stroke=\"yellow\" stroke-width=\"4\"/>' + '</svg>'\n",
    "end_markup = '<svg width=\"20\" height=\"20\" version=\"1.1\" xmlns=\"http://www.w3.org/2000/svg\">' + '<circle cx=\"10\" cy=\"10\" r=\"7\" fill=\"transparent\" stroke=\"red\" stroke-width=\"4\"/>' + '</svg>'\n",
    "split_markup = '<svg width=\"20\" height=\"20\" version=\"1.1\" xmlns=\"http://www.w3.org/2000/svg\">' + '<circle cx=\"10\" cy=\"10\" r=\"7\" fill=\"transparent\" stroke=\"orange\" stroke-width=\"4\"/>' + '</svg>'\n",
    "      \n",
    "start_icon = Icon(bitmap=start_markup, height=20, width=20, anchor={'x': 10, 'y': 10})\n",
    "stopover_icon = Icon(bitmap=stopover_markup, height=20, width=20, anchor={'x': 10, 'y': 10})\n",
    "end_icon = Icon(bitmap=end_markup, height=20, width=20, anchor={'x': 10, 'y': 10})\n",
    "split_icon = Icon(bitmap=split_markup, height=20, width=20, anchor={'x': 10, 'y': 10})\n",
    "\n",
    "mc = MeasurementControl(start_icon=start_icon, stopover_icon=stopover_icon, end_icon=end_icon, split_icon=split_icon)\n",
    "\n",
    "m.add_control(mc)"
   ]
  }
 ],
 "metadata": {
  "kernelspec": {
   "display_name": "Python 3",
   "language": "python",
   "name": "python3"
  },
  "language_info": {
   "codemirror_mode": {
    "name": "ipython",
    "version": 3
   },
   "file_extension": ".py",
   "mimetype": "text/x-python",
   "name": "python",
   "nbconvert_exporter": "python",
   "pygments_lexer": "ipython3",
   "version": "3.8.5"
  }
 },
 "nbformat": 4,
 "nbformat_minor": 4
}
