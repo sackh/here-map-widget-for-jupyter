{
 "cells": [
  {
   "cell_type": "markdown",
   "metadata": {},
   "source": [
    "<div class=\"alert alert-block alert-warning\">\n",
    "<b>Warning:</b> Before running below cells please make sure you have API key. \n",
    "                Please see <a href=\"https://github.com/heremaps/here-map-widget-for-jupyter/blob/master/examples/README.md\">README.md</a> for more info on API key.\n",
    "</div>"
   ]
  },
  {
   "cell_type": "code",
   "execution_count": null,
   "metadata": {},
   "outputs": [],
   "source": [
    "import os\n",
    "\n",
    "os.environ[\"LS_API_KEY\"] = \"MY-API-KEY\"  # replace your API key here."
   ]
  },
  {
   "cell_type": "code",
   "execution_count": null,
   "metadata": {},
   "outputs": [],
   "source": [
    "# Create a normal map view\n",
    "from here_map_widget import Map, MeasurementControl, Icon, Marker\n",
    "import os\n",
    "\n",
    "m = Map(api_key=os.environ[\"LS_API_KEY\"])\n",
    "m.center = [44.20022717941052, -72.75660780639646]\n",
    "\n",
    "m"
   ]
  },
  {
   "cell_type": "code",
   "execution_count": null,
   "metadata": {},
   "outputs": [],
   "source": [
    "start_markup = (\n",
    "    '<svg width=\"20\" height=\"20\" version=\"1.1\" xmlns=\"http://www.w3.org/2000/svg\">'\n",
    "    + '<circle cx=\"10\" cy=\"10\" r=\"7\" fill=\"transparent\" stroke=\"green\" stroke-width=\"4\"/>'\n",
    "    + \"</svg>\"\n",
    ")\n",
    "stopover_markup = (\n",
    "    '<svg width=\"20\" height=\"20\" version=\"1.1\" xmlns=\"http://www.w3.org/2000/svg\">'\n",
    "    + '<circle cx=\"10\" cy=\"10\" r=\"7\" fill=\"transparent\" stroke=\"yellow\" stroke-width=\"4\"/>'\n",
    "    + \"</svg>\"\n",
    ")\n",
    "end_markup = (\n",
    "    '<svg width=\"20\" height=\"20\" version=\"1.1\" xmlns=\"http://www.w3.org/2000/svg\">'\n",
    "    + '<circle cx=\"10\" cy=\"10\" r=\"7\" fill=\"transparent\" stroke=\"red\" stroke-width=\"4\"/>'\n",
    "    + \"</svg>\"\n",
    ")\n",
    "split_markup = (\n",
    "    '<svg width=\"20\" height=\"20\" version=\"1.1\" xmlns=\"http://www.w3.org/2000/svg\">'\n",
    "    + '<circle cx=\"10\" cy=\"10\" r=\"7\" fill=\"transparent\" stroke=\"orange\" stroke-width=\"4\"/>'\n",
    "    + \"</svg>\"\n",
    ")\n",
    "\n",
    "start_icon = Icon(bitmap=start_markup, height=20, width=20, anchor={\"x\": 10, \"y\": 10})\n",
    "stopover_icon = Icon(bitmap=stopover_markup, height=20, width=20, anchor={\"x\": 10, \"y\": 10})\n",
    "end_icon = Icon(bitmap=end_markup, height=20, width=20, anchor={\"x\": 10, \"y\": 10})\n",
    "split_icon = Icon(bitmap=split_markup, height=20, width=20, anchor={\"x\": 10, \"y\": 10})\n",
    "\n",
    "mc = MeasurementControl(\n",
    "    start_icon=start_icon, stopover_icon=stopover_icon, end_icon=end_icon, split_icon=split_icon\n",
    ")\n",
    "\n",
    "m.add_control(mc)"
   ]
  }
 ],
 "metadata": {
  "kernelspec": {
   "display_name": "Python 3",
   "language": "python",
   "name": "python3"
  },
  "language_info": {
   "codemirror_mode": {
    "name": "ipython",
    "version": 3
   },
   "file_extension": ".py",
   "mimetype": "text/x-python",
   "name": "python",
   "nbconvert_exporter": "python",
   "pygments_lexer": "ipython3",
   "version": "3.7.9"
  }
 },
 "nbformat": 4,
 "nbformat_minor": 4
}
