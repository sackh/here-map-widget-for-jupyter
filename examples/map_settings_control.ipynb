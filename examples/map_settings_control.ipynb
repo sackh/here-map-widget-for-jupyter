{
 "cells": [
  {
   "cell_type": "code",
   "execution_count": null,
   "metadata": {},
   "outputs": [],
   "source": [
    "from here_map_widget import GeoJSON, Map, MapSettingsControl\n",
    "from here_map_widget import TileLayer, XYZ\n",
    "import os\n",
    "\n",
    "center = [51.1657, 10.4515]\n",
    "\n",
    "m = Map(api_key=os.environ['LS_API_KEY'], center=center) "
   ]
  },
  {
   "cell_type": "code",
   "execution_count": null,
   "metadata": {},
   "outputs": [],
   "source": [
    "xyz_token = os.environ['XYZ_TOKEN']\n",
    "provider = XYZ(space_id=\"m2pcsiNi\", token=xyz_token)\n",
    "space = TileLayer(provider=provider)\n",
    "\n",
    "geojson = GeoJSON(\n",
    "    url=\"https://gist.githubusercontent.com/peaksnail/5d4f07ca00ed7c653663d7874e0ab8e7/raw/64c2a975482efd9c42e54f6f6869f091055053cd/countries.geo.json\",\n",
    "    disable_legacy_mode=True,\n",
    "    style={\"color\": \"black\", \"opacity\": 0.1},\n",
    ")\n",
    "\n",
    "\n",
    "setttings = MapSettingsControl(\n",
    "    layers=[\n",
    "        {\"label\": \"space\", \"layer\": space},\n",
    "        {\"label\": \"countries\", \"layer\": geojson},\n",
    "    ],\n",
    "    basemaps=[\"raster.satellite.map\", \"raster.terrain.map\"],\n",
    "    alignment=\"RIGHT_TOP\"\n",
    ")\n",
    "m.add_control(setttings)\n",
    "m"
   ]
  }
 ],
 "metadata": {
  "kernelspec": {
   "display_name": "Python 3",
   "language": "python",
   "name": "python3"
  },
  "language_info": {
   "codemirror_mode": {
    "name": "ipython",
    "version": 3
   },
   "file_extension": ".py",
   "mimetype": "text/x-python",
   "name": "python",
   "nbconvert_exporter": "python",
   "pygments_lexer": "ipython3",
   "version": "3.8.5"
  }
 },
 "nbformat": 4,
 "nbformat_minor": 4
}
