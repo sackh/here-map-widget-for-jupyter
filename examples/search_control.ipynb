{
 "cells": [
  {
   "cell_type": "code",
   "execution_count": null,
   "metadata": {},
   "outputs": [],
   "source": [
    "# Search using geocoding service \n",
    "\n",
    "from here_map_widget import Map, SearchControl, Marker\n",
    "import os\n",
    "\n",
    "center = [19.0760, 72.8777]\n",
    "m = Map(api_key=os.environ['LS_API_KEY'], center=center)\n",
    "\n",
    "marker = Marker(lat=center[0], lng=center[1])\n",
    "sc = SearchControl(marker=marker, zoom=5)\n",
    "\n",
    "m.add_control(sc)\n",
    "\n",
    "m"
   ]
  },
  {
   "cell_type": "code",
   "execution_count": null,
   "metadata": {},
   "outputs": [],
   "source": [
    "# Search in GeoJSON Layer\n",
    "\n",
    "from here_map_widget import Map, SearchControl, Marker, GeoJSON, InfoBubble\n",
    "import os\n",
    "\n",
    "center = [19.0760, 72.8777]\n",
    "m = Map(api_key=os.environ['LS_API_KEY'], center=center)\n",
    "\n",
    "\n",
    "geojson = GeoJSON(url='https://gist.githubusercontent.com/peaksnail/5d4f07ca00ed7c653663d7874e0ab8e7/raw/64c2a975482efd9c42e54f6f6869f091055053cd/countries.geo.json', \n",
    "                  disable_legacy_mode=True, \n",
    "                  style={\"color\": \"black\", \"opacity\": 0.1}\n",
    "                 )\n",
    "\n",
    "marker = Marker(lat=center[0], lng=center[1])\n",
    "\n",
    "sc = SearchControl(zoom=3, layer=geojson, property_name='name')\n",
    "\n",
    "m.add_control(sc)\n",
    "\n",
    "m"
   ]
  },
  {
   "cell_type": "code",
   "execution_count": null,
   "metadata": {},
   "outputs": [],
   "source": [
    "# Add Infobubble on searched feature.\n",
    "\n",
    "from shapely.geometry import shape\n",
    "from here_map_widget import Point\n",
    "\n",
    "def add_popup(feature, **kwargs):\n",
    "    p = shape(feature[\"geometry\"])\n",
    "    content = '''<h3><b> {}</b></h3>\n",
    "                 <h4>id: {}</h4>\n",
    "              '''.format(feature['properties']['name'], feature['properties']['name_long'])\n",
    "    info = InfoBubble(position=Point(lat=p.centroid.y, lng=p.centroid.x),\n",
    "                      content=content\n",
    "                      )\n",
    "    m.bubbles = []\n",
    "    m.add_bubble(info)\n",
    "    m.center = [p.centroid.y, p.centroid.x]\n",
    "\n",
    "sc.on_feature_found(add_popup)"
   ]
  }
 ],
 "metadata": {
  "kernelspec": {
   "display_name": "Python 3",
   "language": "python",
   "name": "python3"
  },
  "language_info": {
   "codemirror_mode": {
    "name": "ipython",
    "version": 3
   },
   "file_extension": ".py",
   "mimetype": "text/x-python",
   "name": "python",
   "nbconvert_exporter": "python",
   "pygments_lexer": "ipython3",
   "version": "3.8.5"
  }
 },
 "nbformat": 4,
 "nbformat_minor": 4
}
