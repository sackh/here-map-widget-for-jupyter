{
 "cells": [
  {
   "cell_type": "markdown",
   "metadata": {},
   "source": [
    "<div class=\"alert alert-block alert-warning\">\n",
    "<b>Warning:</b> Before running below cells please make sure you have API key. \n",
    "                Please see <a href=\"https://github.com/heremaps/here-map-widget-for-jupyter/blob/master/examples/README.md\">README.md</a> for more info on API key.\n",
    "</div>"
   ]
  },
  {
   "cell_type": "code",
   "execution_count": null,
   "metadata": {},
   "outputs": [],
   "source": [
    "import os\n",
    "\n",
    "os.environ[\"LS_API_KEY\"] = \"MY-API-KEY\"  # replace your API key here."
   ]
  },
  {
   "cell_type": "code",
   "execution_count": null,
   "metadata": {},
   "outputs": [],
   "source": [
    "# Add Japan OMV data as basemap\n",
    "\n",
    "from here_map_widget import Map, OMV, Platform, Style, TileLayer\n",
    "from here_map_widget import ServiceNames, OMVUrl\n",
    "import os"
   ]
  },
  {
   "cell_type": "code",
   "execution_count": null,
   "metadata": {},
   "outputs": [],
   "source": [
    "services_config = {\n",
    "    ServiceNames.omv: {\n",
    "        OMVUrl.scheme: \"https\",\n",
    "        OMVUrl.host: \"vector.hereapi.com\",\n",
    "        OMVUrl.path: \"/v2/vectortiles/core/mc\",\n",
    "    }\n",
    "}\n",
    "\n",
    "platform = Platform(api_key=os.environ[\"LS_API_KEY\"], services_config=services_config)\n",
    "\n",
    "style = Style(\n",
    "    config=\"https://js.api.here.com/v3/3.1/styles/omv/oslo/japan/normal.day.yaml\",\n",
    "    base_url=\"https://js.api.here.com/v3/3.1/styles/omv/oslo/japan/\",\n",
    ")\n",
    "\n",
    "omv_provider = OMV(path=\"v2/vectortiles/core/mc\", platform=platform, style=style)\n",
    "\n",
    "omv_layer = TileLayer(provider=omv_provider, style={\"max\": 22})\n",
    "\n",
    "center = [35.68026, 139.76744]\n",
    "m = Map(api_key=os.environ[\"LS_API_KEY\"], center=center, zoom=8, basemap=omv_layer)\n",
    "m"
   ]
  }
 ],
 "metadata": {
  "kernelspec": {
   "display_name": "Python 3",
   "language": "python",
   "name": "python3"
  },
  "language_info": {
   "codemirror_mode": {
    "name": "ipython",
    "version": 3
   },
   "file_extension": ".py",
   "mimetype": "text/x-python",
   "name": "python",
   "nbconvert_exporter": "python",
   "pygments_lexer": "ipython3",
   "version": "3.7.9"
  }
 },
 "nbformat": 4,
 "nbformat_minor": 4
}
