{
 "cells": [
  {
   "cell_type": "code",
   "execution_count": null,
   "metadata": {},
   "outputs": [],
   "source": [
    "# Add Japan OMV data as basemap\n",
    "\n",
    "from here_map_widget import Map, OMV, Platform, Style, TileLayer\n",
    "from here_map_widget import ServiceNames, OMVUrl \n",
    "import os"
   ]
  },
  {
   "cell_type": "code",
   "execution_count": null,
   "metadata": {},
   "outputs": [],
   "source": [
    "services_config = {ServiceNames.omv: {OMVUrl.scheme: \"https\", \n",
    "                                      OMVUrl.host: \"vector.hereapi.com\", \n",
    "                                      OMVUrl.path: \"/v2/vectortiles/core/mc\"}}\n",
    "\n",
    "platform = Platform(api_key=os.environ['LS_API_KEY'], services_config=services_config)\n",
    "\n",
    "style = Style(config=\"http://js.api.here.com/v3/3.1/styles/omv/oslo/japan/normal.day.yaml\", \n",
    "              base_url='http://js.api.here.com/v3/3.1/styles/omv/oslo/japan/')\n",
    "\n",
    "omv_provider = OMV(path=\"v2/vectortiles/core/mc\", platform=platform, style=style)\n",
    "\n",
    "omv_layer = TileLayer(provider=omv_provider, style={'max': 22})\n",
    "\n",
    "center = [35.68026, 139.76744]\n",
    "m = Map(api_key=os.environ['LS_API_KEY'], center=center, zoom=8, basemap=omv_layer)\n",
    "m"
   ]
  }
 ],
 "metadata": {
  "kernelspec": {
   "display_name": "Python 3",
   "language": "python",
   "name": "python3"
  },
  "language_info": {
   "codemirror_mode": {
    "name": "ipython",
    "version": 3
   },
   "file_extension": ".py",
   "mimetype": "text/x-python",
   "name": "python",
   "nbconvert_exporter": "python",
   "pygments_lexer": "ipython3",
   "version": "3.8.5"
  }
 },
 "nbformat": 4,
 "nbformat_minor": 4
}
