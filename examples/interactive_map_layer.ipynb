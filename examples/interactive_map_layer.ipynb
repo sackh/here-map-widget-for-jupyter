{
 "cells": [
  {
   "cell_type": "code",
   "execution_count": null,
   "id": "electoral-minutes",
   "metadata": {},
   "outputs": [],
   "source": [
    "from here_map_widget import TileLayer, FullscreenControl, IML\n",
    "from here_map_widget import Map\n",
    "import os\n",
    "\n",
    "m = Map(api_key=os.environ.get(\"LS_API_KEY\"), center=[38.90192, -76.97605], zoom=12)\n",
    "provider = IML(catalog_hrn=\"hrn:here:data::olp-here:dh-showcase-dc-transit\", layer_id=\"dc-transit\")\n",
    "space_layer = TileLayer(provider=provider)\n",
    "m.add_layer(space_layer)\n",
    "fc = FullscreenControl()\n",
    "m.add_control(fc)\n",
    "m"
   ]
  }
 ],
 "metadata": {
  "kernelspec": {
   "display_name": "Python 3",
   "language": "python",
   "name": "python3"
  },
  "language_info": {
   "codemirror_mode": {
    "name": "ipython",
    "version": 3
   },
   "file_extension": ".py",
   "mimetype": "text/x-python",
   "name": "python",
   "nbconvert_exporter": "python",
   "pygments_lexer": "ipython3",
   "version": "3.8.8"
  }
 },
 "nbformat": 4,
 "nbformat_minor": 5
}
