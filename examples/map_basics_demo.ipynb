{
 "cells": [
  {
   "cell_type": "code",
   "execution_count": null,
   "metadata": {},
   "outputs": [],
   "source": [
    "#Create a normal map view\n",
    "from here_map_widget import TileLayer, XYZ \n",
    "from here_map_widget import Map\n",
    "import os\n",
    "\n",
    "m = Map(api_key=os.environ['LS_API_KEY'])\n",
    "m.center = [44.20022717941052, -72.75660780639646]\n",
    "m"
   ]
  },
  {
   "cell_type": "code",
   "execution_count": null,
   "metadata": {},
   "outputs": [],
   "source": [
    "m.center = [19.0760, 72.8777]\n",
    "m.zoom = 3"
   ]
  },
  {
   "cell_type": "code",
   "execution_count": null,
   "metadata": {},
   "outputs": [],
   "source": [
    "m.center"
   ]
  },
  {
   "cell_type": "code",
   "execution_count": null,
   "metadata": {},
   "outputs": [],
   "source": [
    "#Add XYZ Space data on Map\n",
    "style_flagged = { \"layers.xyz.points.Places\" : {\n",
    "     'filter': { \"properties.GPSFLG\": \"Flagged for coordinate check\" },\n",
    "     'draw' : {\n",
    "      'points': {\n",
    "        'color': 'blue',\n",
    "        'text': {\n",
    "          'priority': 0,\n",
    "          'font': {\n",
    "            'size': '12px',\n",
    "            'fill': 'red',\n",
    "            'stroke': {\n",
    "              'color': 'white',\n",
    "              'width': '0.5px'\n",
    "            }\n",
    "          }\n",
    "        }\n",
    "      }\n",
    "    }\n",
    "  }\n",
    "}\n",
    "\n",
    "xyz_token = os.environ['XYZ_TOKEN']\n",
    "provider = XYZ(space_id='m2pcsiNi', token=xyz_token, show_bubble=True)\n",
    "space = TileLayer(provider=provider, style = style_flagged)\n",
    "m.add_layer(space)"
   ]
  },
  {
   "cell_type": "code",
   "execution_count": null,
   "metadata": {},
   "outputs": [],
   "source": [
    "#Set center and zoom for Map\n",
    "from here_map_widget import Marker\n",
    "from here_map_widget import TileLayer, XYZ \n",
    "from here_map_widget import Map\n",
    "import os\n",
    "\n",
    "m = Map(api_key=os.environ['LS_API_KEY'])\n",
    "m.center = [19.0760, 72.8777]\n",
    "m.zoom = 6\n",
    "m"
   ]
  },
  {
   "cell_type": "code",
   "execution_count": null,
   "metadata": {},
   "outputs": [],
   "source": [
    "#Add marker\n",
    "mumbai_marker = Marker(lat=19.0760, lng=72.8777, evt_type='tap', draggable=True)\n",
    "m.add_object(mumbai_marker)"
   ]
  },
  {
   "cell_type": "code",
   "execution_count": null,
   "metadata": {},
   "outputs": [],
   "source": [
    "pune_marker = Marker(lat=18.5204, lng=73.8567)\n",
    "m.add_object(pune_marker)"
   ]
  },
  {
   "cell_type": "code",
   "execution_count": null,
   "metadata": {},
   "outputs": [],
   "source": [
    "#Remove a Marker\n",
    "m.remove_object(mumbai_marker)"
   ]
  },
  {
   "cell_type": "code",
   "execution_count": null,
   "metadata": {},
   "outputs": [],
   "source": [
    "#Add LineString as Polyline\n",
    "from here_map_widget import LineString, Polyline\n",
    "from here_map_widget import Map\n",
    "import os\n",
    "\n",
    "m = Map(api_key=os.environ['LS_API_KEY'])\n",
    "m.center = [51.1657, 10.4515]\n",
    "style = { 'lineWidth': 15 }\n",
    "l = [53.3477, -6.2597, 0, 51.5008, -0.1224, 0, 48.8567, 2.3508, 0, 52.5166, 13.3833, 0]\n",
    "ls = LineString(points=l)\n",
    "pl = Polyline(object=ls, style=style)\n",
    "m.add_object(pl)\n",
    "m"
   ]
  },
  {
   "cell_type": "code",
   "execution_count": null,
   "metadata": {},
   "outputs": [],
   "source": [
    "ls.push_point(lat=53.3477, lng=-6.2597)\n",
    "m"
   ]
  },
  {
   "cell_type": "code",
   "execution_count": null,
   "metadata": {},
   "outputs": [],
   "source": [
    "#Add MultiLineString as Polyline\n",
    "from here_map_widget import Map\n",
    "from here_map_widget import LineString, MultiLineString, Polyline\n",
    "import os\n",
    "\n",
    "m = Map(api_key=os.environ['LS_API_KEY'])\n",
    "m.center = [51.1657, 10.4515]\n",
    "style = { 'lineWidth': 15 }\n",
    "l = [53.3477, -6.2597, 0, 51.5008, -0.1224, 0, 48.8567, 2.3508, 0, 52.5166, 13.3833, 0]\n",
    "l_1 = [-53.3477, 6.2597, 0, -51.5008, 0.1224, 0, 48.8567, 2.3508, 0, 52.5166, 13.3833, 0]\n",
    "ls = LineString(points=l)\n",
    "ls_1 = LineString(points=l_1)\n",
    "ml = MultiLineString(lines=[ls])\n",
    "pl = Polyline(object=ml, style=style)\n",
    "m.add_object(pl)\n",
    "m"
   ]
  },
  {
   "cell_type": "code",
   "execution_count": null,
   "metadata": {},
   "outputs": [],
   "source": [
    "ml.push_line(ls_1)\n",
    "m"
   ]
  },
  {
   "cell_type": "code",
   "execution_count": null,
   "metadata": {},
   "outputs": [],
   "source": [
    "ml.remove_line(ls_1)\n",
    "m"
   ]
  },
  {
   "cell_type": "code",
   "execution_count": null,
   "metadata": {},
   "outputs": [],
   "source": [
    "#Add Polygon on Map\n",
    "from here_map_widget import Map\n",
    "from here_map_widget import LineString, Polygon\n",
    "import os\n",
    "\n",
    "center = [51.1657, 10.4515]\n",
    "\n",
    "m = Map(api_key=os.environ['LS_API_KEY'], center=center)\n",
    "\n",
    "style = {\"fillColor\": \"#FFFFCC\", \"strokeColor\": \"#829\", \"lineWidth\": 8}\n",
    "\n",
    "l = [52, 13, 100, 48, 2, 100, 48, 16, 100, 52, 13, 100]\n",
    "\n",
    "ls = LineString(points=l)\n",
    "\n",
    "pg = Polygon(object=ls, style=style)\n",
    "m.add_object(pg)\n",
    "m"
   ]
  },
  {
   "cell_type": "code",
   "execution_count": null,
   "metadata": {},
   "outputs": [],
   "source": [
    "#Add GeoJSON from URL\n",
    "from here_map_widget import Map\n",
    "from here_map_widget import GeoJSON\n",
    "import os\n",
    "\n",
    "m = Map(api_key=os.environ['LS_API_KEY'])\n",
    "geojson = GeoJSON(url='https://gist.githubusercontent.com/peaksnail/5d4f07ca00ed7c653663d7874e0ab8e7/raw/64c2a975482efd9c42e54f6f6869f091055053cd/countries.geo.json', disable_legacy_mode=True, \n",
    "                  style={\"fillColor\": \"#F5B041\", \"color\": \"black\", \"opacity\": 0.1}, show_bubble=True)\n",
    "m.add_layer(geojson)\n",
    "m"
   ]
  },
  {
   "cell_type": "code",
   "execution_count": null,
   "metadata": {},
   "outputs": [],
   "source": [
    "#Add geojson from Local File\n",
    "from here_map_widget import Map\n",
    "from here_map_widget import GeoJSON\n",
    "import json\n",
    "import os\n",
    "\n",
    "m = Map(api_key=os.environ['LS_API_KEY'])\n",
    "\n",
    "with open('countries.json', 'r') as f:\n",
    "  data = json.load(f)\n",
    "\n",
    "def call_back(feature):\n",
    "    return {\"fillColor\": \"#F5B041\", \"color\": \"black\", \"opacity\": 0.1}\n",
    "\n",
    "geojson = GeoJSON(data=data, style_callback=call_back, disable_legacy_mode=True)\n",
    "m.add_layer(geojson)\n",
    "m"
   ]
  },
  {
   "cell_type": "code",
   "execution_count": null,
   "metadata": {},
   "outputs": [],
   "source": [
    "#Add WKT Point on Map\n",
    "from here_map_widget import WKT, Marker\n",
    "from here_map_widget import Map\n",
    "import os\n",
    "\n",
    "m = Map(api_key=os.environ['LS_API_KEY'])\n",
    "m.center = [19.0760, 72.8777]\n",
    "m.zoom = 9\n",
    "wkt = WKT(data='POINT (72.8777 19.0760)')\n",
    "mumbai_marker = Marker(object=wkt)\n",
    "m.add_object(mumbai_marker)\n",
    "m"
   ]
  },
  {
   "cell_type": "code",
   "execution_count": null,
   "metadata": {},
   "outputs": [],
   "source": [
    "#Add WKT LineString on Map\n",
    "from here_map_widget import WKT, Polyline\n",
    "from here_map_widget import Map\n",
    "import os\n",
    "\n",
    "m = Map(api_key=os.environ['LS_API_KEY'])\n",
    "m.center = [6.1256, 1.2254]\n",
    "m.zoom = 6\n",
    "style = { 'lineWidth': 15 }\n",
    "wkt = WKT(data='LINESTRING(4 6,7 10)')\n",
    "line = Polyline(object=wkt, style=style)\n",
    "m.add_object(line)\n",
    "m"
   ]
  },
  {
   "cell_type": "code",
   "execution_count": null,
   "metadata": {},
   "outputs": [],
   "source": [
    "#Add WKT MultiLineString on Map\n",
    "from here_map_widget import WKT, Polyline\n",
    "from here_map_widget import Map\n",
    "import os\n",
    "\n",
    "m = Map(api_key=os.environ['LS_API_KEY'])\n",
    "m.center = [40.4168, 3.7038]\n",
    "m.zoom = 6\n",
    "style = { 'lineWidth': 15 }\n",
    "wkt = WKT(data='MULTILINESTRING( (-2 41.5, -1 50, 0 60 ),(-1.541 40.141, -2.5 40.661, -1.8 41.541, -0.7 42.151) )')\n",
    "line = Polyline(object=wkt, style=style)\n",
    "m.add_object(line)\n",
    "m"
   ]
  },
  {
   "cell_type": "code",
   "execution_count": null,
   "metadata": {},
   "outputs": [],
   "source": [
    "#Add WKT Polygon on Map\n",
    "from here_map_widget import WKT, Polygon\n",
    "from here_map_widget import Map\n",
    "import os\n",
    "\n",
    "m = Map(api_key=os.environ['LS_API_KEY'])\n",
    "m.center = [52.5200, 13.4050]\n",
    "m.zoom = 3\n",
    "style = { 'lineWidth': 15 }\n",
    "wkt = WKT(data='POLYGON((23.972060 54.377196, 22.697646 49.763346, 14.567764 51.872928, 13.600967 55.637141))')\n",
    "polygon = Polygon(object=wkt)\n",
    "m.add_object(polygon)\n",
    "m"
   ]
  },
  {
   "cell_type": "code",
   "execution_count": null,
   "metadata": {},
   "outputs": [],
   "source": [
    "# HeatMap Example\n",
    "\n",
    "import numpy as np\n",
    "\n",
    "data = (\n",
    "    np.random.normal(size=(100, 3)) * np.array([[1, 1, 1]]) + np.array([[48, 5, 1]])\n",
    ").tolist()\n",
    "\n",
    "data_list = []\n",
    "for d in data:\n",
    "    data_list.append({\"lat\": d[0], \"lng\": d[1], \"value\": d[2]})\n",
    "data_list"
   ]
  },
  {
   "cell_type": "code",
   "execution_count": null,
   "metadata": {},
   "outputs": [],
   "source": [
    "from here_map_widget import TileLayer, HeatMap\n",
    "from here_map_widget import Map\n",
    "import os\n",
    "\n",
    "m = Map(api_key=os.environ['LS_API_KEY'], center=[48.1575, 12.7134], zoom=12)\n",
    "provider = HeatMap(interpolate=True, opacity=0.6, assume_values=True)\n",
    "provider.add_data(data_list)\n",
    "heatmap = TileLayer(provider=provider)\n",
    "m.add_layer(heatmap)\n",
    "m"
   ]
  },
  {
   "cell_type": "code",
   "execution_count": null,
   "metadata": {},
   "outputs": [],
   "source": [
    "provider.clear()"
   ]
  },
  {
   "cell_type": "code",
   "execution_count": null,
   "metadata": {},
   "outputs": [],
   "source": [
    "#Add millions of points data\n",
    "from here_map_widget import TileLayer, XYZ \n",
    "from here_map_widget import Map\n",
    "import os\n",
    "\n",
    "m = Map(api_key=os.environ['LS_API_KEY'])\n",
    "m.center = [44.20022717941052, -72.75660780639646]\n",
    "provider = XYZ(space_id='ZManj2D5', token=xyz_token)\n",
    "space = TileLayer(provider=provider)\n",
    "m.add_layer(space)\n",
    "m"
   ]
  }
 ],
 "metadata": {
  "kernelspec": {
   "display_name": "Python 3",
   "language": "python",
   "name": "python3"
  },
  "language_info": {
   "codemirror_mode": {
    "name": "ipython",
    "version": 3
   },
   "file_extension": ".py",
   "mimetype": "text/x-python",
   "name": "python",
   "nbconvert_exporter": "python",
   "pygments_lexer": "ipython3",
   "version": "3.8.5"
  }
 },
 "nbformat": 4,
 "nbformat_minor": 4
}
