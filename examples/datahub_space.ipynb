{
 "cells": [
  {
   "cell_type": "markdown",
   "metadata": {},
   "source": [
    "<div class=\"alert alert-block alert-warning\">\n",
    "<b>Warning:</b> Before running below cells please make sure you have API key and XYZ access token. \n",
    "                Please see <a href=\"https://github.com/heremaps/here-map-widget-for-jupyter/blob/master/examples/README.md\">README.md</a> for more info on API key and XYZ access token.\n",
    "</div>"
   ]
  },
  {
   "cell_type": "code",
   "execution_count": null,
   "metadata": {},
   "outputs": [],
   "source": [
    "import os\n",
    "\n",
    "os.environ[\"LS_API_KEY\"] = \"MY-API-KEY\"  # replace your API key here.\n",
    "os.environ[\"XYZ_TOKEN\"] = \"MY-XYZ-TOKEN\"  # replace your XYZ access token here."
   ]
  },
  {
   "cell_type": "code",
   "execution_count": null,
   "metadata": {},
   "outputs": [],
   "source": [
    "import json\n",
    "\n",
    "with open(\"india_district.json\", \"r\") as f:\n",
    "    data = json.load(f)"
   ]
  },
  {
   "cell_type": "code",
   "execution_count": null,
   "metadata": {},
   "outputs": [],
   "source": [
    "from xyzspaces import XYZ\n",
    "import os\n",
    "from geojson import FeatureCollection\n",
    "\n",
    "# Make a python object to interact with Data Hub APIs\n",
    "xyz_token = os.environ[\"XYZ_TOKEN\"]\n",
    "xyz = XYZ(credentials=xyz_token)\n",
    "\n",
    "# Create a new space\n",
    "title = \"India districts space\"\n",
    "description = \"India districts space\"\n",
    "space = xyz.spaces.new(title=title, description=description)\n",
    "\n",
    "resp = space.add_features(features=data, features_size=50)"
   ]
  },
  {
   "cell_type": "code",
   "execution_count": null,
   "metadata": {},
   "outputs": [],
   "source": [
    "from here_map_widget import TileLayer, XYZ, FullscreenControl\n",
    "from here_map_widget import Map\n",
    "import os\n",
    "\n",
    "m = Map(api_key=os.environ[\"LS_API_KEY\"], center=[19.16153, 72.85618], zoom=4)\n",
    "provider = XYZ(space_id=space.info[\"id\"], token=xyz_token)\n",
    "space_layer = TileLayer(provider=provider)\n",
    "m.add_layer(space_layer)\n",
    "fc = FullscreenControl()\n",
    "m.add_control(fc)\n",
    "m"
   ]
  },
  {
   "cell_type": "code",
   "execution_count": null,
   "metadata": {},
   "outputs": [],
   "source": [
    "from here_map_widget import Point, InfoBubble\n",
    "\n",
    "\n",
    "def update_bubble(properties, **kwargs):\n",
    "    content = \"\"\"<h3><b> {}</b></h3>\n",
    "                 <h4>{}</h4>\n",
    "              \"\"\".format(\n",
    "        properties[\"properties.NAME_2\"], properties[\"properties.NAME_1\"]\n",
    "    )\n",
    "    info = InfoBubble(\n",
    "        position=Point(lat=kwargs[\"position\"][\"lat\"], lng=kwargs[\"position\"][\"lng\"]),\n",
    "        content=content,\n",
    "    )\n",
    "    m.bubbles = []\n",
    "    m.add_bubble(info)\n",
    "\n",
    "\n",
    "provider.on_click(update_bubble)"
   ]
  },
  {
   "cell_type": "code",
   "execution_count": null,
   "metadata": {},
   "outputs": [],
   "source": [
    "space.delete()"
   ]
  }
 ],
 "metadata": {
  "kernelspec": {
   "display_name": "Python 3",
   "language": "python",
   "name": "python3"
  },
  "language_info": {
   "codemirror_mode": {
    "name": "ipython",
    "version": 3
   },
   "file_extension": ".py",
   "mimetype": "text/x-python",
   "name": "python",
   "nbconvert_exporter": "python",
   "pygments_lexer": "ipython3",
   "version": "3.8.5"
  }
 },
 "nbformat": 4,
 "nbformat_minor": 4
}
