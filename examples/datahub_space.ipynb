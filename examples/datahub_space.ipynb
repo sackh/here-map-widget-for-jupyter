{
 "cells": [
  {
   "cell_type": "code",
   "execution_count": null,
   "metadata": {},
   "outputs": [],
   "source": [
    "#! pip install xyzspaces"
   ]
  },
  {
   "cell_type": "code",
   "execution_count": null,
   "metadata": {},
   "outputs": [],
   "source": [
    "import json\n",
    "with open('countries.geo.json', 'r') as f:\n",
    "  data = json.load(f)"
   ]
  },
  {
   "cell_type": "code",
   "execution_count": null,
   "metadata": {},
   "outputs": [],
   "source": [
    "from xyzspaces import XYZ\n",
    "import os\n",
    "from geojson import FeatureCollection\n",
    "\n",
    "# Make a python object to interact with Data Hub APIs\n",
    "xyz_token = os.environ[\"XYZ_TOKEN\"]\n",
    "xyz = XYZ(credentials=xyz_token)\n",
    "\n",
    "# Create a new space\n",
    "title = \"Testing XYZ Python Client\"\n",
    "description = \"Temporary space containing countries data.\"\n",
    "space = xyz.spaces.new(title=title, description=description)\n",
    "\n",
    "resp = space.add_features(features=data)"
   ]
  },
  {
   "cell_type": "code",
   "execution_count": null,
   "metadata": {},
   "outputs": [],
   "source": [
    "from here_map_widget import TileLayer, XYZ \n",
    "from here_map_widget import Map\n",
    "import os\n",
    "\n",
    "m = Map(api_key=os.environ['LS_API_KEY'])\n",
    "provider = XYZ(space_id=space.info['id'], token=xyz_token)\n",
    "space_layer = TileLayer(provider=provider)\n",
    "m.add_layer(space_layer)\n",
    "m"
   ]
  },
  {
   "cell_type": "code",
   "execution_count": null,
   "metadata": {},
   "outputs": [],
   "source": [
    "from here_map_widget import Point, InfoBubble\n",
    "\n",
    "def update_bubble(properties,  **kwargs):\n",
    "    content = '''<h3><b> {}</b></h3>\n",
    "                 <h4>id: {}</h4>\n",
    "              '''.format(properties['properties.name'], kwargs['id'])\n",
    "    info = InfoBubble(position=Point(lat=kwargs['position']['lat'], lng=kwargs['position']['lng']),\n",
    "                      content=content\n",
    "                      )\n",
    "    m.bubbles = []\n",
    "    m.add_bubble(info)\n",
    "    m.center = [kwargs['position']['lat'], kwargs['position']['lng']]\n",
    "\n",
    "provider.on_click(update_bubble)"
   ]
  },
  {
   "cell_type": "code",
   "execution_count": null,
   "metadata": {},
   "outputs": [],
   "source": [
    "space.delete()"
   ]
  }
 ],
 "metadata": {
  "kernelspec": {
   "display_name": "Python 3",
   "language": "python",
   "name": "python3"
  },
  "language_info": {
   "codemirror_mode": {
    "name": "ipython",
    "version": 3
   },
   "file_extension": ".py",
   "mimetype": "text/x-python",
   "name": "python",
   "nbconvert_exporter": "python",
   "pygments_lexer": "ipython3",
   "version": "3.8.5"
  }
 },
 "nbformat": 4,
 "nbformat_minor": 4
}
