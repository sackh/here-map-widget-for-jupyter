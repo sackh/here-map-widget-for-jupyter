{
 "cells": [
  {
   "cell_type": "code",
   "execution_count": null,
   "metadata": {},
   "outputs": [],
   "source": [
    "from here_map_widget import Map\n",
    "from here_map_widget import Bbox, Rectangle\n",
    "import os\n",
    "\n",
    "center = [46.017618898512374, 23.91982511231513]\n",
    "\n",
    "m = Map(api_key=os.environ['LS_API_KEY'], center=center, zoom=3)\n",
    "\n",
    "style = {\"strokeColor\": \"#829\", \"lineWidth\": 4}\n",
    "\n",
    "bbox = Bbox(top=53.1, left=13.1, bottom=43.1, right=40.1)\n",
    "rectangle = Rectangle(bbox=bbox, style=style, draggable=True)\n",
    "m.add_object(rectangle)\n",
    "m"
   ]
  }
 ],
 "metadata": {
  "kernelspec": {
   "display_name": "Python 3",
   "language": "python",
   "name": "python3"
  },
  "language_info": {
   "codemirror_mode": {
    "name": "ipython",
    "version": 3
   },
   "file_extension": ".py",
   "mimetype": "text/x-python",
   "name": "python",
   "nbconvert_exporter": "python",
   "pygments_lexer": "ipython3",
   "version": "3.8.5"
  }
 },
 "nbformat": 4,
 "nbformat_minor": 4
}
