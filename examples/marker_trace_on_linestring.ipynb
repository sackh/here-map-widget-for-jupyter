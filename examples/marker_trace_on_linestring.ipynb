{
 "cells": [
  {
   "cell_type": "code",
   "execution_count": null,
   "metadata": {},
   "outputs": [],
   "source": [
    "feature = dict({\"geometry\": {\"bbox\": \"\", \"coordinates\": [[-73.89820611, 40.82789739, 0.0], [-73.8970042, 40.82805874, 0.0], [-73.8970042, 40.82805874, 0.0], [-73.89639715, 40.82877116, 0.0], [-73.89639715, 40.82877116, 0.0], [-73.89669775, 40.83042279, 0.0]], \"type\": \"LineString\"}, \"id\": \"1464\", \"properties\": {\"@ns:com:here:xyz\": {\"createdAt\": 1593002860522, \"muuid\": \"\", \"puuid\": \"\", \"space\": \"9fkLGSO9\", \"tags\": [\"query\"], \"updatedAt\": 1593002860522, \"uuid\": \"\"}, \"ArcCenterX\": 0, \"ArcCenterY\": 0, \"BIKE_TRAFDIR\": \"  \", \"BOE_LGC\": \"1\", \"BikeLane\": \"  \", \"BoroBndry\": \" \", \"ConParity\": \" \", \"CurveFlag\": \" \", \"FCC\": \"  \", \"FDNYID\": \"       \", \"FaceCode\": \"3864\", \"FeatureTyp\": \"0\", \"FromLeft\": 851, \"FromRight\": 850, \"GenericID\": 34682, \"GlobalID\": \"cc855c80-33d1-4f51-831f-89dbd2c0123c\", \"IncExFlag\": \" \", \"Join_ID\": \"2386401000000\", \"LATOMICPOLYGON\": \"303\", \"LAssmDist\": \"79\", \"LBlockFaceID\": \"1422602605\", \"LBoro\": 2, \"LCB2000\": \"3001\", \"LCB2000Suf\": \" \", \"LCB2010\": \"4001\", \"LCB2010Suf\": \" \", \"LCT1990\": \" 151\", \"LCT1990Suf\": \"  \", \"LCT2000\": \" 151\", \"LCT2000Suf\": \"  \", \"LCT2010\": \" 151\", \"LCT2010Suf\": \"  \", \"LElectDist\": \"024\", \"LGC1\": \"01\", \"LGC2\": \"  \", \"LGC3\": \"  \", \"LGC4\": \"  \", \"LGC5\": \"  \", \"LGC6\": \"  \", \"LGC7\": \"  \", \"LGC8\": \"  \", \"LGC9\": \"  \", \"LHi_Hyphen\": \"    867\", \"LLo_Hyphen\": \"    851\", \"LSchlDist\": \"12\", \"LSubSect\": \"1B\", \"LZip\": \"10459\", \"L_CD\": \"202\", \"L_PD_Service_Area\": \" \", \"LegacyID\": \"0078442\", \"LocStatus\": \"X\", \"MH_RI_Flag\": \" \", \"MapFrom\": \"3D \", \"MapTo\": \"3D \", \"NYPDID\": \"       \", \"NodeIDFrom\": \"0047913\", \"NodeIDTo\": \"0047915\", \"NodeLevelF\": \"M\", \"NodeLevelT\": \"M\", \"NonPed\": \" \", \"Number_Park_Lanes\": \" 2\", \"Number_Total_Lanes\": \" 3\", \"Number_Travel_Lanes\": \" 1\", \"OBJECTID\": 1464, \"POSTED_SPEED\": \"25\", \"PhysicalID\": 40142, \"RATOMICPOLYGON\": \"503\", \"RAssmDist\": \"79\", \"RB_Layer\": \"B\", \"RBlockFaceID\": \"1422606829\", \"RBoro\": 2, \"RCB2000\": \"5000\", \"RCB2000Suf\": \" \", \"RCB2010\": \"1000\", \"RCB2010Suf\": \" \", \"RCT1990\": \" 131\", \"RCT1990Suf\": \"  \", \"RCT2000\": \" 131\", \"RCT2000Suf\": \"  \", \"RCT2010\": \" 131\", \"RCT2010Suf\": \"  \", \"RElectDist\": \"025\", \"RHi_Hyphen\": \"    862\", \"RLo_Hyphen\": \"    850\", \"ROW_Type\": \" \", \"RSchlDist\": \"12\", \"RSubSect\": \"1B\", \"RW_TYPE\": \" 1\", \"RZip\": \"10459\", \"R_CD\": \"202\", \"R_PD_Service_Area\": \" \", \"Radius\": 0, \"SAFStreetCode\": \"      \", \"SAFStreetName\": \"                                \", \"SanDistInd\": \" \", \"SegCount\": \"1\", \"SegmentID\": \"0078442\", \"SegmentTyp\": \"U\", \"SeqNum\": \"00060\", \"Shape__Length\": 337.781782140932, \"Snow_Priority\": \"C\", \"SpecAddr\": \" \", \"SplitElect\": \" \", \"Status\": \"2\", \"Street\": \"HOME STREET\", \"StreetCode\": \"240520\", \"StreetWidth_Irr\": \" \", \"StreetWidth_Max\": 34, \"StreetWidth_Min\": 32, \"TRUCK_ROUTE_TYPE\": \" \", \"ToLeft\": 867, \"ToRight\": 862, \"TrafDir\": \"A\", \"TrafSrc\": \"DOT\", \"Twisted\": \" \", \"XFrom\": 1012422, \"XTo\": 1012754, \"YFrom\": 240916, \"YTo\": 240975, \"style\": {\"fillColor\": \"#ff0000\", \"lineWidth\": \"8\"}}, \"type\": \"Feature\"})\n"
   ]
  },
  {
   "cell_type": "code",
   "execution_count": null,
   "metadata": {},
   "outputs": [],
   "source": [
    "from turfpy.measurement import along, length\n",
    "\n",
    "points = []\n",
    "l = length(feature, units='m')\n",
    "i = 1.0\n",
    "d = 0.1\n",
    "while i <= l:\n",
    "    a = along(feature,i,'m')\n",
    "    points.append({'lat' : a['geometry']['coordinates'][1], 'lng' : a['geometry']['coordinates'][0]})\n",
    "    i = i + d"
   ]
  },
  {
   "cell_type": "code",
   "execution_count": null,
   "metadata": {},
   "outputs": [],
   "source": [
    "from here_map_widget import Map\n",
    "from turfpy.measurement import bearing\n",
    "from geojson import Feature, Point\n",
    "import os\n",
    "\n",
    "m = Map(api_key=os.environ['LS_API_KEY'], center=[points[0]['lat'], points[0]['lng']], zoom=22.0, tilt=85.0, heading=259.9542183774041)\n",
    "\n",
    "def on_value_change(change):\n",
    "    point = points[change['new']]\n",
    "    m.lat = point['lat']\n",
    "    m.lng = point['lng']\n",
    "    m.center = [point['lat'], point['lng']]\n",
    "#     M.add_object(Marker(lat=point['lat'], lng=point['lng']))\n",
    "#     if change['new'] > 0:\n",
    "#         start = points[change['new']-1]\n",
    "#         end = points[change['new']]\n",
    "#         start = Feature(geometry=Point((start['lat'], start['lng'])))\n",
    "#         end = Feature(geometry=Point((end['lat'], end['lng'])))\n",
    "#         M.heading = bearing(start,end) + 0"
   ]
  },
  {
   "cell_type": "code",
   "execution_count": null,
   "metadata": {},
   "outputs": [],
   "source": [
    "from ipywidgets import Button, IntSlider\n",
    "\n",
    "slider = IntSlider(description=\"Location\", min=0, max=len(points)-1, value=0)\n",
    "slider.observe(on_value_change, 'value')"
   ]
  },
  {
   "cell_type": "code",
   "execution_count": null,
   "metadata": {
    "scrolled": false
   },
   "outputs": [],
   "source": [
    "from here_map_widget import Map\n",
    "from here_map_widget import GeoJSON, Marker, Icon, ZoomControl, WidgetControl\n",
    "import os\n",
    "\n",
    "center = [40.82859218023296, -73.89739292971197]\n",
    "\n",
    "geojson = GeoJSON(data=feature, disable_legacy_mode=True, style={\"fillColor\": \"#ff0000\", \"lineWidth\": \"8\"})\n",
    "m.add_layer(geojson)\n",
    "\n",
    "zc = ZoomControl(slider=True, alignment=\"TOP_RIGHT\")\n",
    "m.add_control(zc)\n",
    "i = Icon(bitmap='marker_image.png', height=60, width=60)\n",
    "marker = Marker(lat=feature['geometry']['coordinates'][0][1], lng=feature['geometry']['coordinates'][0][0], icon=i)\n",
    "m.add_object(marker)\n",
    "\n",
    "wc = WidgetControl(widget=slider, alignment=\"BOTTOM_RIGHT\", name=\"Slider\")\n",
    "m.add_control(wc)\n",
    "\n",
    "m"
   ]
  }
 ],
 "metadata": {
  "kernelspec": {
   "display_name": "Python 3",
   "language": "python",
   "name": "python3"
  },
  "language_info": {
   "codemirror_mode": {
    "name": "ipython",
    "version": 3
   },
   "file_extension": ".py",
   "mimetype": "text/x-python",
   "name": "python",
   "nbconvert_exporter": "python",
   "pygments_lexer": "ipython3",
   "version": "3.8.5"
  }
 },
 "nbformat": 4,
 "nbformat_minor": 4
}
