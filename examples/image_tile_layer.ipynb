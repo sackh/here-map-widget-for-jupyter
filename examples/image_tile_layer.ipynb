{
 "cells": [
  {
   "cell_type": "markdown",
   "id": "unusual-electricity",
   "metadata": {},
   "source": [
    "# ImageTileProvider\n",
    "\n",
    "ImageTileProvider is used to add TileLayer from tile services provided by XYZ tile servers or WMTS servers."
   ]
  },
  {
   "cell_type": "markdown",
   "id": "linear-start",
   "metadata": {},
   "source": [
    "<div class=\"alert alert-block alert-warning\">\n",
    "<b>Warning:</b> Before running below cells please make sure you have API key. \n",
    "                Please see <a href=\"https://github.com/heremaps/here-map-widget-for-jupyter/blob/master/examples/README.md\">README.md</a> for more info on API key.\n",
    "</div>"
   ]
  },
  {
   "cell_type": "markdown",
   "id": "sixth-protection",
   "metadata": {},
   "source": [
    "## XYZ TileLayer"
   ]
  },
  {
   "cell_type": "code",
   "execution_count": null,
   "id": "center-frame",
   "metadata": {},
   "outputs": [],
   "source": [
    "import os\n",
    "\n",
    "os.environ[\"LS_API_KEY\"] = \"MY-API-KEY\"  # replace your API key here."
   ]
  },
  {
   "cell_type": "code",
   "execution_count": null,
   "id": "dangerous-operation",
   "metadata": {},
   "outputs": [],
   "source": [
    "from here_map_widget import Map, ImageTileProvider, TileLayer, ZoomControl\n",
    "\n",
    "\n",
    "m = Map(api_key=os.environ[\"LS_API_KEY\"], center=[39.40, -104.08], zoom=3)\n",
    "\n",
    "url = \"https://a.tile.openstreetmap.org/{z}/{x}/{y}.png\"\n",
    "attribution = 'Map data (c) <a href=\"https://openstreetmap.org\">OpenStreetMap</a> contributors'\n",
    "provider = ImageTileProvider(url=url, attribution=attribution)\n",
    "layer = TileLayer(provider=provider)\n",
    "m.add_layer(layer)\n",
    "zc = ZoomControl(alignment=\"LEFT_TOP\")\n",
    "m.add_control(zc)\n",
    "m"
   ]
  },
  {
   "cell_type": "markdown",
   "id": "sharp-appraisal",
   "metadata": {},
   "source": [
    "## WMTS TileLayer"
   ]
  },
  {
   "cell_type": "code",
   "execution_count": null,
   "id": "respective-dancing",
   "metadata": {},
   "outputs": [],
   "source": [
    "import os\n",
    "from here_map_widget import Map, ImageTileProvider, TileLayer, ZoomControl\n",
    "\n",
    "\n",
    "m = Map(api_key=os.environ[\"LS_API_KEY\"], center=[39.40, -104.08], zoom=3.66)\n",
    "\n",
    "url = \"https://services.arcgisonline.com/arcgis/rest/services/Demographics/USA_Population_Density/MapServer/WMTS/?layer=0&style=default&tilematrixset=EPSG%3A4326&Service=WMTS&Request=GetTile&Version=1.0.0&Format=image%2Fpng&TileMatrix={z}&TileCol={x}&TileRow={y}\"\n",
    "provider = ImageTileProvider(url=url)\n",
    "layer = TileLayer(provider=provider)\n",
    "m.add_layer(layer)\n",
    "zc = ZoomControl(alignment=\"LEFT_TOP\")\n",
    "m.add_control(zc)\n",
    "m"
   ]
  }
 ],
 "metadata": {
  "kernelspec": {
   "display_name": "Python 3",
   "language": "python",
   "name": "python3"
  },
  "language_info": {
   "codemirror_mode": {
    "name": "ipython",
    "version": 3
   },
   "file_extension": ".py",
   "mimetype": "text/x-python",
   "name": "python",
   "nbconvert_exporter": "python",
   "pygments_lexer": "ipython3",
   "version": "3.8.8"
  }
 },
 "nbformat": 4,
 "nbformat_minor": 5
}
