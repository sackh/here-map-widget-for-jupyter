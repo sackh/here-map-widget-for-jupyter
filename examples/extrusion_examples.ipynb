{
 "cells": [
  {
   "cell_type": "code",
   "execution_count": null,
   "metadata": {},
   "outputs": [],
   "source": [
    "#Add MultiLineString as Polyline\n",
    "from here_map_widget import Map\n",
    "from here_map_widget import LineString, GeoPolygon, Polygon\n",
    "import os\n",
    "\n",
    "m = Map(api_key=os.environ['LS_API_KEY'], center=[48.872896005495306, 2.3360622646724236], zoom=18.5)\n",
    "\n",
    "l = [\n",
    "      48.872736787725835, 2.3357521086738733, 0,\n",
    "      48.872999137012414, 2.336246110725605, 0,\n",
    "      48.873206469632656, 2.335367301542851, 0,\n",
    "      48.8730321868559, 2.33536897595885, 0,\n",
    "      48.87279198168118, 2.3354461066058567, 0\n",
    "    ]\n",
    "l_1 = [\n",
    "        48.87289262905369, 2.3355164652820624, 0,\n",
    "        48.87293843005124, 2.3356328576727807, 0,\n",
    "        48.872856799273066, 2.3357070736759376, 0,\n",
    "        48.87280671673371, 2.3355991272331043, 0\n",
    "      ]\n",
    "\n",
    "l_2 = [ 48.873056443891635, 2.335505336523056, 0,\n",
    "        48.873029099278625, 2.335640788078308, 0,\n",
    "        48.8730979018248, 2.335631400346756, 0,\n",
    "         48.873056443891635, 2.335505336523056, 0,\n",
    "      ]\n",
    "ls = LineString(points=l)\n",
    "ls_1 = LineString(points=l_1)\n",
    "ls_2 = LineString(points=l_2)\n",
    "gp = GeoPolygon(linestring=ls, holes=[ls_1])\n",
    "pg = Polygon(object=gp, extrusion=90)\n",
    "m.add_object(pg)\n",
    "m"
   ]
  },
  {
   "cell_type": "code",
   "execution_count": null,
   "metadata": {},
   "outputs": [],
   "source": [
    "gp.push_hole(ls_2)\n",
    "m"
   ]
  },
  {
   "cell_type": "code",
   "execution_count": null,
   "metadata": {},
   "outputs": [],
   "source": [
    "l_3 = [ 48.872972645836754, 2.3362550139427185, 0,\n",
    "         48.873028217194104, 2.3362711071968074, 0,\n",
    "         48.8732566765702, 2.3357467353343964, 0,\n",
    "         48.87327431817748, 2.3352988064289093, 0,\n",
    "         48.873023806771165, 2.3352639377117153, 0,\n",
    "         48.87276094486238, 2.3353363573551174, 0,\n",
    "         48.8726586224036, 2.3356421291828156, 0,\n",
    "         48.87274506725316, 2.335989475250244, 0,\n",
    "         48.872972645836754, 2.3362550139427185, 0,\n",
    "        ]\n",
    "ls_3 = LineString(points=l_3)"
   ]
  },
  {
   "cell_type": "code",
   "execution_count": null,
   "metadata": {},
   "outputs": [],
   "source": [
    "gp.set_exterior(ls_3)\n",
    "m"
   ]
  },
  {
   "cell_type": "code",
   "execution_count": null,
   "metadata": {},
   "outputs": [],
   "source": [
    "from here_map_widget import Map\n",
    "from here_map_widget import Bbox, Rectangle\n",
    "import os\n",
    "\n",
    "center = [46.017618898512374, 23.91982511231513]\n",
    "\n",
    "m = Map(api_key=os.environ['LS_API_KEY'], center=center, zoom=3)\n",
    "\n",
    "style = {\"strokeColor\": \"#829\", \"lineWidth\": 4}\n",
    "\n",
    "bbox = Bbox(top=53.1, left=13.1, bottom=43.1, right=40.1)\n",
    "rectangle = Rectangle(bbox=bbox, style=style, extrusion=1000)\n",
    "m.add_object(rectangle)\n",
    "m"
   ]
  },
  {
   "cell_type": "code",
   "execution_count": null,
   "metadata": {},
   "outputs": [],
   "source": [
    "from here_map_widget import Map\n",
    "from here_map_widget import Point, Circle\n",
    "import os\n",
    "\n",
    "center = [19.152761, 72.87869]\n",
    "\n",
    "m = Map(api_key=os.environ['LS_API_KEY'], center=center, zoom=10)\n",
    "\n",
    "style = {\"strokeColor\": \"#829\", \"lineWidth\": 4}\n",
    "\n",
    "point = Point(lat=19.152761, lng=72.87869)\n",
    "circle = Circle(center=point, radius=10000, style=style, extrusion=1000)\n",
    "m.add_object(circle)\n",
    "m"
   ]
  }
 ],
 "metadata": {
  "kernelspec": {
   "display_name": "Python 3",
   "language": "python",
   "name": "python3"
  },
  "language_info": {
   "codemirror_mode": {
    "name": "ipython",
    "version": 3
   },
   "file_extension": ".py",
   "mimetype": "text/x-python",
   "name": "python",
   "nbconvert_exporter": "python",
   "pygments_lexer": "ipython3",
   "version": "3.8.5"
  }
 },
 "nbformat": 4,
 "nbformat_minor": 4
}
