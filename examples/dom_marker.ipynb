{
 "cells": [
  {
   "cell_type": "code",
   "execution_count": null,
   "metadata": {},
   "outputs": [],
   "source": [
    "from here_map_widget import Map, FullscreenControl, DomMarker, DomIcon\n",
    "import os\n",
    "\n",
    "m = Map(api_key=os.environ['LS_API_KEY'], center=[41.8625, -87.6166], zoom=15)\n",
    "\n",
    "icon = DomIcon(element='<div style=\"user-select: none; cursor: default;\"> \\\n",
    "<div style=\"color: red; background-color: blue; border: 2px solid black; font: 12px / 12px arial; padding-top: 2px; padding-left: 4px; width: 20px; height: 20px; margin-top: -10px; margin-left: -10px;\">C</div> \\\n",
    "</div>')\n",
    "marker = DomMarker(lat=41.8625, lng=-87.6166, icon=icon)\n",
    "m.add_object(marker)\n",
    "m"
   ]
  }
 ],
 "metadata": {
  "kernelspec": {
   "display_name": "Python 3",
   "language": "python",
   "name": "python3"
  },
  "language_info": {
   "codemirror_mode": {
    "name": "ipython",
    "version": 3
   },
   "file_extension": ".py",
   "mimetype": "text/x-python",
   "name": "python",
   "nbconvert_exporter": "python",
   "pygments_lexer": "ipython3",
   "version": "3.8.5"
  }
 },
 "nbformat": 4,
 "nbformat_minor": 4
}
