{
 "cells": [
  {
   "cell_type": "code",
   "execution_count": null,
   "metadata": {},
   "outputs": [],
   "source": [
    "import json \n",
    "import pandas as pd\n",
    "from ipywidgets import link, FloatSlider\n",
    "from branca.colormap import linear\n",
    "import random\n",
    "\n",
    "geo_json_data = json.load(open('us-states.json')) \n",
    "unemployment = pd.read_csv('us_unemployment_oct2012.csv')"
   ]
  },
  {
   "cell_type": "code",
   "execution_count": null,
   "metadata": {},
   "outputs": [],
   "source": [
    "unemployment =  dict(zip(unemployment['State'].tolist(), unemployment['Unemployment'].tolist()))\n"
   ]
  },
  {
   "cell_type": "code",
   "execution_count": null,
   "metadata": {
    "scrolled": true
   },
   "outputs": [],
   "source": [
    "unemployment"
   ]
  },
  {
   "cell_type": "code",
   "execution_count": null,
   "metadata": {},
   "outputs": [],
   "source": [
    "from here_map_widget import Map, Choropleth\n",
    "import os\n",
    "\n",
    "layer = Choropleth(\n",
    "    geo_data=geo_json_data,\n",
    "    choro_data=unemployment,\n",
    "    colormap=linear.YlOrRd_04,\n",
    "    style={'fillOpacity': 0.8, 'dashArray': '5, 5'},\n",
    "    disable_legacy_mode=True\n",
    ")\n",
    "\n",
    "m = Map(api_key=os.environ['LS_API_KEY'])\n",
    "m.center = [39.96214343725025, -96.72875165247453]\n",
    "m.zoom = 3.556073061219927"
   ]
  },
  {
   "cell_type": "code",
   "execution_count": null,
   "metadata": {},
   "outputs": [],
   "source": [
    "m.add_layer(layer)\n",
    "m"
   ]
  },
  {
   "cell_type": "code",
   "execution_count": null,
   "metadata": {},
   "outputs": [],
   "source": [
    "def compute_style(feature, colormap, choro_data):\n",
    "    return {\n",
    "        'fillColor': colormap.rgb_hex_str(choro_data),\n",
    "        'strokeColor': 'white'\n",
    "    }"
   ]
  },
  {
   "cell_type": "code",
   "execution_count": null,
   "metadata": {},
   "outputs": [],
   "source": [
    "layer.style_callback=compute_style"
   ]
  },
  {
   "cell_type": "code",
   "execution_count": null,
   "metadata": {},
   "outputs": [],
   "source": [
    "from here_map_widget import WidgetControl\n",
    "\n",
    "slider = FloatSlider(min=layer.value_min, max=layer.value_max, continuous_update=False)\n",
    "slider.value = layer.value_min\n",
    "link((slider, 'value'), (layer, 'value_min'))\n",
    "wc = WidgetControl(widget=slider, alignment='BOTTOM_RIGHT')\n",
    "m.add_control(wc)\n",
    "m"
   ]
  },
  {
   "cell_type": "code",
   "execution_count": null,
   "metadata": {},
   "outputs": [],
   "source": [
    "layer.colormap = linear.RdBu_11"
   ]
  },
  {
   "cell_type": "code",
   "execution_count": null,
   "metadata": {},
   "outputs": [],
   "source": [
    "from ipywidgets import Text, HTML\n",
    "from here_map_widget import WidgetControl, GeoJSON, FullscreenControl\n",
    "\n",
    "\n",
    "html = HTML('''\n",
    "    <h4> Name </h4>\n",
    "    Hover over a state\n",
    "''')\n",
    "html.layout.margin = '0px 10px 10px 10px'\n",
    "control = WidgetControl(widget=html, alignment='TOP_LEFT', name='HTML')\n",
    "m.add_control(control)\n",
    "\n",
    "def update_html(feature, id, **kwargs):\n",
    "    html.value = '''\n",
    "        State name:  \n",
    "        <b>{}\\n</b>\n",
    "        {} \n",
    "    '''.format(id, feature['properties']['name'])\n",
    "\n",
    "layer.on_hover(update_html)\n",
    "m.add_control(FullscreenControl(alignment='TOP_RIGHT'))"
   ]
  }
 ],
 "metadata": {
  "kernelspec": {
   "display_name": "Python 3",
   "language": "python",
   "name": "python3"
  },
  "language_info": {
   "codemirror_mode": {
    "name": "ipython",
    "version": 3
   },
   "file_extension": ".py",
   "mimetype": "text/x-python",
   "name": "python",
   "nbconvert_exporter": "python",
   "pygments_lexer": "ipython3",
   "version": "3.8.5"
  }
 },
 "nbformat": 4,
 "nbformat_minor": 4
}
