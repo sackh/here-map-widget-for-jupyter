{
 "cells": [
  {
   "cell_type": "code",
   "execution_count": null,
   "metadata": {},
   "outputs": [],
   "source": [
    "# Marker Cluster Example\n",
    "\n",
    "import os\n",
    "from here_map_widget import Map, MarkerCluster, ZoomControl, ObjectLayer\n",
    "\n",
    "\n",
    "m = Map(api_key=os.environ[\"LS_API_KEY\"], center=[51.01, 0.01], zoom=7)\n",
    "\n",
    "data = \"\"\"\n",
    "<!DOCTYPE html>\n",
    "<html>\n",
    "<body>\n",
    "<h1>Marker</h1>\n",
    "<p>{}</p>\n",
    "</body>\n",
    "</html>\n",
    "\"\"\"\n",
    "p1 = dict(lat=51.01, lng=0.01, data=data.format(\"First Marker\"))\n",
    "p2 = dict(lat=50.04, lng=1.01, data=data.format(\"Second Marker\"))\n",
    "p3 = dict(lat=51.45, lng=1.01, data=data.format(\"Third Marker\"))\n",
    "p4 = dict(lat=51.01, lng=2.01, data=data.format(\"Fourth Marker\"))\n",
    "\n",
    "provider = MarkerCluster(data_points=[p1, p2, p3, p4], show_bubble=True)\n",
    "layer = ObjectLayer(provider=provider)\n",
    "m.add_layer(layer)\n",
    "zc = ZoomControl(alignment=\"LEFT_TOP\")\n",
    "m.add_control(zc)\n",
    "m"
   ]
  }
 ],
 "metadata": {
  "kernelspec": {
   "display_name": "Python 3",
   "language": "python",
   "name": "python3"
  },
  "language_info": {
   "codemirror_mode": {
    "name": "ipython",
    "version": 3
   },
   "file_extension": ".py",
   "mimetype": "text/x-python",
   "name": "python",
   "nbconvert_exporter": "python",
   "pygments_lexer": "ipython3",
   "version": "3.8.5"
  }
 },
 "nbformat": 4,
 "nbformat_minor": 4
}
