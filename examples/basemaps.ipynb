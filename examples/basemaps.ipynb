{
 "cells": [
  {
   "cell_type": "code",
   "execution_count": null,
   "metadata": {},
   "outputs": [],
   "source": [
    "# Default Basemap Example\n",
    "\n",
    "from here_map_widget import Map\n",
    "import os\n",
    "\n",
    "m = Map(api_key=os.environ[\"LS_API_KEY\"], center=[52.5147, 13.3984], zoom=13)\n",
    "m"
   ]
  },
  {
   "cell_type": "code",
   "execution_count": null,
   "metadata": {},
   "outputs": [],
   "source": [
    "# Default Basemap with dark style\n",
    "\n",
    "from here_map_widget import Map, Style\n",
    "import os\n",
    "\n",
    "style = Style(\n",
    "    config=\"https://heremaps.github.io/maps-api-for-javascript-examples/change-style-at-load/data/dark.yaml\",\n",
    "    base_url=\"https://js.api.here.com/v3/3.1/styles/omv/\",\n",
    ")\n",
    "\n",
    "m = Map(\n",
    "    api_key=os.environ[\"LS_API_KEY\"],\n",
    "    style=style,\n",
    "    center=[52.51477270923461, 13.39846691425174],\n",
    "    zoom=13,\n",
    ")\n",
    "m"
   ]
  },
  {
   "cell_type": "code",
   "execution_count": null,
   "metadata": {},
   "outputs": [],
   "source": [
    "# Default layers raster basemap\n",
    "\n",
    "from here_map_widget import Map, DefaultLayers, DefaultLayerNames, Platform\n",
    "import os\n",
    "\n",
    "default_layer = DefaultLayers(layer_name=DefaultLayerNames.raster.satellite.map)\n",
    "\n",
    "m = Map(\n",
    "    api_key=os.environ[\"LS_API_KEY\"], basemap=default_layer, center=[44.2002, -72.7566]\n",
    ")\n",
    "m"
   ]
  },
  {
   "cell_type": "code",
   "execution_count": null,
   "metadata": {},
   "outputs": [],
   "source": [
    "# HERE OMV service data as basemap\n",
    "\n",
    "from here_map_widget import Map, OMV, Platform, Style, TileLayer\n",
    "from here_map_widget import ServiceNames, OMVUrl\n",
    "import os\n",
    "\n",
    "services_config = {\n",
    "    ServiceNames.omv: {\n",
    "        OMVUrl.scheme: \"https\",\n",
    "        OMVUrl.host: \"vector.hereapi.com\",\n",
    "        OMVUrl.path: \"/v2/vectortiles/core/mc\",\n",
    "    }\n",
    "}\n",
    "\n",
    "platform = Platform(api_key=os.environ[\"LS_API_KEY\"], services_config=services_config)\n",
    "\n",
    "style = Style(\n",
    "    config=\"http://js.api.here.com/v3/3.1/styles/omv/oslo/japan/normal.day.yaml\",\n",
    "    base_url=\"http://js.api.here.com/v3/3.1/styles/omv/oslo/japan/\",\n",
    ")\n",
    "\n",
    "omv_provider = OMV(path=\"/v2/vectortiles/core/mc\", platform=platform, style=style)\n",
    "\n",
    "omv_layer = TileLayer(provider=omv_provider, style={\"max\": 22})\n",
    "\n",
    "m = Map(\n",
    "    api_key=os.environ[\"LS_API_KEY\"],\n",
    "    center=[35.68026, 139.76744],\n",
    "    zoom=8,\n",
    "    basemap=omv_layer,\n",
    ")\n",
    "m"
   ]
  },
  {
   "cell_type": "code",
   "execution_count": null,
   "metadata": {
    "scrolled": false
   },
   "outputs": [],
   "source": [
    "# HERE Maptile service data as basemap\n",
    "\n",
    "from here_map_widget import Map, Platform, MapTile, TileLayer\n",
    "from here_map_widget import ServiceNames, MapTileUrl\n",
    "import os\n",
    "\n",
    "services_config = {\n",
    "    ServiceNames.maptile: {\n",
    "        MapTileUrl.scheme: \"https\",\n",
    "        MapTileUrl.host: \"maps.ls.hereapi.com\",\n",
    "        MapTileUrl.path: \"maptile/2.1\",\n",
    "    }\n",
    "}\n",
    "\n",
    "platform = Platform(api_key=os.environ[\"LS_API_KEY\"], services_config=services_config)\n",
    "\n",
    "maptile = MapTile(\n",
    "    tile_type=\"maptile\",\n",
    "    scheme=\"hybrid.day\",\n",
    "    tile_size=256,\n",
    "    format=\"jpg\",\n",
    "    platform=platform,\n",
    "    type=\"aerial\",\n",
    ")\n",
    "\n",
    "maptile_layer = TileLayer(provider=maptile, style={\"max\": 22})\n",
    "\n",
    "m = Map(\n",
    "    api_key=os.environ[\"LS_API_KEY\"],\n",
    "    center=[35.68026, 139.76744],\n",
    "    zoom=17,\n",
    "    basemap=maptile_layer,\n",
    ")\n",
    "m"
   ]
  }
 ],
 "metadata": {
  "kernelspec": {
   "display_name": "Python 3",
   "language": "python",
   "name": "python3"
  },
  "language_info": {
   "codemirror_mode": {
    "name": "ipython",
    "version": 3
   },
   "file_extension": ".py",
   "mimetype": "text/x-python",
   "name": "python",
   "nbconvert_exporter": "python",
   "pygments_lexer": "ipython3",
   "version": "3.8.5"
  }
 },
 "nbformat": 4,
 "nbformat_minor": 4
}
