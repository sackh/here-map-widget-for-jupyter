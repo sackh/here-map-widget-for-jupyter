{
 "cells": [
  {
   "cell_type": "code",
   "execution_count": null,
   "metadata": {},
   "outputs": [],
   "source": [
    "from here_map_widget import Map, Marker, Point\n",
    "from here_map_widget import InfoBubble\n",
    "import os\n",
    "\n",
    "m = Map(api_key=os.environ['LS_API_KEY'], zoom=8)\n",
    "m.center = [19.0760, 72.8777]\n",
    "m.zoom = 8\n",
    "\n",
    "info = InfoBubble(\n",
    "    position=Point(lat=18.9389, lng=72.8258),\n",
    "    content='<div><a href=\"https://mumbaicricket.com\" target=\"_blank\">Mumbai Cricket Association</a> </div><div >Wankhede Stadium<br>Capacity: 33,108</div>',\n",
    ")\n",
    "\n",
    "mumbai_marker = Marker(lat=18.9389, lng=72.8258, info=info, evt_type=\"tap\", show_bubble=True)\n",
    "\n",
    "m.add_object(mumbai_marker)\n",
    "m"
   ]
  },
  {
   "cell_type": "code",
   "execution_count": null,
   "metadata": {},
   "outputs": [],
   "source": [
    "# without InfoBubble\n",
    "\n",
    "m = Map(\n",
    "    api_key=os.environ['LS_API_KEY'],\n",
    "    zoom=8,\n",
    "    center=[18.9389, 72.8258],\n",
    ")\n",
    "\n",
    "mumbai_marker = Marker(\n",
    "    lat=18.9389,\n",
    "    lng=72.8258,\n",
    "    data='<div><a href=\"https://mumbaicricket.com\" target=\"_blank\">Mumbai Cricket Association</a> </div><div >Wankhede Stadium<br>Capacity: 33,108</div>',\n",
    "    evt_type=\"pointerenter\",\n",
    "    show_bubble=True\n",
    ")\n",
    "\n",
    "m.add_object(mumbai_marker)\n",
    "m"
   ]
  },
  {
   "cell_type": "markdown",
   "metadata": {},
   "source": [
    "### Add InfoBubble on map"
   ]
  },
  {
   "cell_type": "code",
   "execution_count": null,
   "metadata": {},
   "outputs": [],
   "source": [
    "from here_map_widget import Map\n",
    "from here_map_widget import InfoBubble, Point\n",
    "import os\n",
    "\n",
    "m = Map(api_key=os.environ['LS_API_KEY'], center= [18.9389, 72.8258])\n",
    "\n",
    "info = InfoBubble(\n",
    "    position=Point(lat=18.9389, lng=72.8258),\n",
    "    content='<div><a href=\"https://mumbaicricket.com\" target=\"_blank\">Mumbai Cricket Association</a> </div><div >Wankhede Stadium<br>Capacity: 33,108</div>',\n",
    ")\n",
    "\n",
    "m.add_bubble(info)\n",
    "m"
   ]
  },
  {
   "cell_type": "code",
   "execution_count": null,
   "metadata": {},
   "outputs": [],
   "source": [
    "m.remove_bubble(info)"
   ]
  },
  {
   "cell_type": "markdown",
   "metadata": {},
   "source": [
    "### Add customizable InfoBubble"
   ]
  },
  {
   "cell_type": "code",
   "execution_count": null,
   "metadata": {},
   "outputs": [],
   "source": [
    "import json\n",
    "with open('countries.json', 'r') as f:\n",
    "  data = json.load(f)"
   ]
  },
  {
   "cell_type": "code",
   "execution_count": null,
   "metadata": {},
   "outputs": [],
   "source": [
    "from here_map_widget import Map, InfoBubble, Point\n",
    "from here_map_widget import GeoJSON\n",
    "import os\n",
    "\n",
    "m = Map(api_key=os.environ['LS_API_KEY'])\n",
    "geojson = GeoJSON(data=data, disable_legacy_mode=True)\n",
    "m.add_layer(geojson)\n",
    "m"
   ]
  },
  {
   "cell_type": "code",
   "execution_count": null,
   "metadata": {},
   "outputs": [],
   "source": [
    "from here_map_widget import Point\n",
    "\n",
    "def update_bubble(feature,  **kwargs):\n",
    "    content = '''<h3><b> {}</b></h3>\n",
    "                 <h4>id: {}</h4>\n",
    "              '''.format(feature['properties']['ADMIN'], kwargs['properties']['ISO_A3'])\n",
    "    info = InfoBubble(position=Point(lat=kwargs['position']['lat'], lng=kwargs['position']['lng']),\n",
    "                      content=content\n",
    "                      )\n",
    "    m.bubbles = []\n",
    "    m.add_bubble(info)\n",
    "    m.center = [kwargs['position']['lat'], kwargs['position']['lng']]\n",
    "\n",
    "geojson.on_click(update_bubble)"
   ]
  }
 ],
 "metadata": {
  "kernelspec": {
   "display_name": "Python 3",
   "language": "python",
   "name": "python3"
  },
  "language_info": {
   "codemirror_mode": {
    "name": "ipython",
    "version": 3
   },
   "file_extension": ".py",
   "mimetype": "text/x-python",
   "name": "python",
   "nbconvert_exporter": "python",
   "pygments_lexer": "ipython3",
   "version": "3.8.5"
  }
 },
 "nbformat": 4,
 "nbformat_minor": 4
}
