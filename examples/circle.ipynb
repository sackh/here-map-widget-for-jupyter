{
 "cells": [
  {
   "cell_type": "code",
   "execution_count": null,
   "metadata": {},
   "outputs": [],
   "source": [
    "from here_map_widget import Map\n",
    "from here_map_widget import Point, Circle\n",
    "import os\n",
    "\n",
    "center = [19.152761, 72.87869]\n",
    "\n",
    "m = Map(api_key=os.environ['LS_API_KEY'], center=center, zoom=10)\n",
    "\n",
    "style = {\"strokeColor\": \"#829\", \"lineWidth\": 4}\n",
    "\n",
    "point = Point(lat=19.152761, lng=72.87869)\n",
    "circle = Circle(center=point, radius=10000, style=style, draggable=True)\n",
    "m.add_object(circle)\n",
    "m"
   ]
  }
 ],
 "metadata": {
  "kernelspec": {
   "display_name": "Python 3",
   "language": "python",
   "name": "python3"
  },
  "language_info": {
   "codemirror_mode": {
    "name": "ipython",
    "version": 3
   },
   "file_extension": ".py",
   "mimetype": "text/x-python",
   "name": "python",
   "nbconvert_exporter": "python",
   "pygments_lexer": "ipython3",
   "version": "3.8.5"
  }
 },
 "nbformat": 4,
 "nbformat_minor": 4
}
