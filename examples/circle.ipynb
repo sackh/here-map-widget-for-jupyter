{
 "cells": [
  {
   "cell_type": "markdown",
   "metadata": {},
   "source": [
    "<div class=\"alert alert-block alert-warning\">\n",
    "<b>Warning:</b> Before running below cells please make sure you have API key. \n",
    "                Please see <a href=\"https://github.com/heremaps/here-map-widget-for-jupyter/blob/master/examples/README.md\">README.md</a> for more info on API key.\n",
    "</div>"
   ]
  },
  {
   "cell_type": "code",
   "execution_count": null,
   "metadata": {},
   "outputs": [],
   "source": [
    "import os\n",
    "\n",
    "os.environ[\"LS_API_KEY\"] = \"MY-API-KEY\"  # replace your API key here."
   ]
  },
  {
   "cell_type": "code",
   "execution_count": null,
   "metadata": {},
   "outputs": [],
   "source": [
    "from here_map_widget import Map\n",
    "from here_map_widget import Point, Circle\n",
    "import os\n",
    "\n",
    "center = [19.152761, 72.87869]\n",
    "\n",
    "m = Map(api_key=os.environ[\"LS_API_KEY\"], center=center, zoom=10)\n",
    "\n",
    "style = {\"strokeColor\": \"#829\", \"lineWidth\": 4}\n",
    "\n",
    "point = Point(lat=19.152761, lng=72.87869)\n",
    "circle = Circle(center=point, radius=10000, style=style, draggable=True)\n",
    "m.add_object(circle)\n",
    "m"
   ]
  }
 ],
 "metadata": {
  "kernelspec": {
   "display_name": "Python 3",
   "language": "python",
   "name": "python3"
  },
  "language_info": {
   "codemirror_mode": {
    "name": "ipython",
    "version": 3
   },
   "file_extension": ".py",
   "mimetype": "text/x-python",
   "name": "python",
   "nbconvert_exporter": "python",
   "pygments_lexer": "ipython3",
   "version": "3.7.9"
  }
 },
 "nbformat": 4,
 "nbformat_minor": 4
}
