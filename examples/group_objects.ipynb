{
 "cells": [
  {
   "cell_type": "code",
   "execution_count": null,
   "metadata": {},
   "outputs": [],
   "source": [
    "from here_map_widget import LineString, Polyline, Marker, Group\n",
    "from here_map_widget import Map, Bbox, Rectangle, Point, Circle, LineString, Polygon\n",
    "import os\n",
    "\n",
    "m = Map(api_key=os.environ['LS_API_KEY'], center=[51.1657, 10.4515])\n",
    "\n",
    "#Polyline\n",
    "plstyle = { 'lineWidth': 15 }\n",
    "l = [53.3477, -6.2597, 0, 51.5008, -0.1224, 0, 48.8567, 2.3508, 0, 52.5166, 13.3833, 0]\n",
    "ls = LineString(points=l)\n",
    "pl = Polyline(object=ls, style=plstyle, draggable=True)\n",
    "\n",
    "\n",
    "#Rectangle\n",
    "rstyle = {\"strokeColor\": \"#829\", \"lineWidth\": 4}\n",
    "bbox = Bbox(top=53.1, left=13.1, bottom=43.1, right=40.1)\n",
    "rectangle = Rectangle(bbox=bbox, style=rstyle, draggable=True)\n",
    "\n",
    "\n",
    "#Circle\n",
    "point = Point(lat=51.1657, lng=10.4515)\n",
    "cstyle = {\"strokeColor\": \"#829\", \"lineWidth\": 4}\n",
    "circle = Circle(center=point, radius=1000000, style=cstyle, draggable=True)\n",
    "\n",
    "\n",
    "#Polygon\n",
    "pgstyle = {\"strokeColor\": \"#829\", \"lineWidth\": 4}\n",
    "\n",
    "l = [52, 13, 100, 48, 2, 100, 48, 16, 100, 52, 13, 100]\n",
    "\n",
    "ls = LineString(points=l)\n",
    "\n",
    "pg = Polygon(object=ls, style=pgstyle, draggable=True)\n",
    "\n",
    "\n",
    "marker = Marker(lat=51.1657, lng=10.4515, evt_type='tap', draggable=True)\n",
    "\n",
    "group = Group(volatility=True)\n",
    "\n",
    "group.add_objects([pl, rectangle, circle, pg, marker])\n",
    "\n",
    "m.add_object(group)\n",
    "m"
   ]
  }
 ],
 "metadata": {
  "kernelspec": {
   "display_name": "Python 3",
   "language": "python",
   "name": "python3"
  },
  "language_info": {
   "codemirror_mode": {
    "name": "ipython",
    "version": 3
   },
   "file_extension": ".py",
   "mimetype": "text/x-python",
   "name": "python",
   "nbconvert_exporter": "python",
   "pygments_lexer": "ipython3",
   "version": "3.8.5"
  }
 },
 "nbformat": 4,
 "nbformat_minor": 4
}
