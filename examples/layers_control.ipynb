{
 "cells": [
  {
   "cell_type": "markdown",
   "id": "divine-reynolds",
   "metadata": {},
   "source": [
    "<div class=\"alert alert-block alert-warning\">\n",
    "<b>Warning:</b> Before running below cells please make sure you have API key. \n",
    "                Please see <a href=\"https://github.com/heremaps/here-map-widget-for-jupyter/blob/master/examples/README.md\">README.md</a> for more info on API key.\n",
    "</div>"
   ]
  },
  {
   "cell_type": "code",
   "execution_count": null,
   "id": "directed-picture",
   "metadata": {},
   "outputs": [],
   "source": [
    "import os\n",
    "\n",
    "os.environ[\"LS_API_KEY\"] = \"MY-API-KEY\"  # replace your API key here."
   ]
  },
  {
   "cell_type": "code",
   "execution_count": null,
   "id": "extensive-education",
   "metadata": {
    "scrolled": false
   },
   "outputs": [],
   "source": [
    "from here_map_widget import GeoJSON, Map, LayersControl\n",
    "import os\n",
    "\n",
    "\n",
    "m = Map(api_key=os.environ[\"LS_API_KEY\"], center=[43.052, -62.49])\n",
    "m"
   ]
  },
  {
   "cell_type": "code",
   "execution_count": null,
   "id": "increasing-reproduction",
   "metadata": {},
   "outputs": [],
   "source": [
    "countries = GeoJSON(\n",
    "    url=\"https://gist.githubusercontent.com/peaksnail/5d4f07ca00ed7c653663d7874e0ab8e7/raw/64c2a975482efd9c42e54f6f6869f091055053cd/countries.geo.json\",\n",
    "    disable_legacy_mode=True,\n",
    "    style={\"color\": \"black\", \"opacity\": 0.1},\n",
    "    name=\"world countries\",\n",
    ")\n",
    "\n",
    "us_states = GeoJSON(\n",
    "    url=\"https://raw.githubusercontent.com/PublicaMundi/MappingAPI/master/data/geojson/us-states.json\",\n",
    "    disable_legacy_mode=True,\n",
    "    style={\"color\": \"black\", \"opacity\": 0.1},\n",
    "    name=\"US states\",\n",
    ")"
   ]
  },
  {
   "cell_type": "code",
   "execution_count": null,
   "id": "vocational-renewal",
   "metadata": {},
   "outputs": [],
   "source": [
    "m.add_layers([countries, us_states])"
   ]
  },
  {
   "cell_type": "code",
   "execution_count": null,
   "id": "smoking-virus",
   "metadata": {},
   "outputs": [],
   "source": [
    "lc = LayersControl(alignment=\"RIGHT_TOP\")\n",
    "m.add_control(lc)"
   ]
  }
 ],
 "metadata": {
  "kernelspec": {
   "display_name": "Python 3",
   "language": "python",
   "name": "python3"
  },
  "language_info": {
   "codemirror_mode": {
    "name": "ipython",
    "version": 3
   },
   "file_extension": ".py",
   "mimetype": "text/x-python",
   "name": "python",
   "nbconvert_exporter": "python",
   "pygments_lexer": "ipython3",
   "version": "3.8.8"
  }
 },
 "nbformat": 4,
 "nbformat_minor": 5
}
