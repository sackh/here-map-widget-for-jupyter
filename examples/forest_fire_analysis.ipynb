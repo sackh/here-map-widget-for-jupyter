{
 "cells": [
  {
   "cell_type": "markdown",
   "metadata": {},
   "source": [
    "<div class=\"alert alert-block alert-warning\">\n",
    "<b>Warning:</b> Before running below cells please make sure you have API key and XYZ access token. \n",
    "                Please see <a href=\"https://github.com/heremaps/here-map-widget-for-jupyter/blob/master/examples/README.md\">README.md</a> for more info on API key and XYZ access token.\n",
    "</div>"
   ]
  },
  {
   "cell_type": "code",
   "execution_count": null,
   "metadata": {},
   "outputs": [],
   "source": [
    "import os\n",
    "\n",
    "os.environ[\"LS_API_KEY\"] = \"MY-API-KEY\"  # replace your API key here.\n",
    "os.environ[\"XYZ_TOKEN\"] = \"MY-XYZ-TOKEN\"  # replace your XYZ access token here."
   ]
  },
  {
   "cell_type": "markdown",
   "metadata": {},
   "source": [
    "## Do all the required import"
   ]
  },
  {
   "cell_type": "code",
   "execution_count": null,
   "metadata": {},
   "outputs": [],
   "source": [
    "from xyzspaces import XYZ\n",
    "import os\n",
    "import time\n",
    "\n",
    "from functools import partial\n",
    "import concurrent.futures\n",
    "from multiprocessing import Process, Manager"
   ]
  },
  {
   "cell_type": "markdown",
   "metadata": {},
   "source": [
    "## Generate a Data Hub object"
   ]
  },
  {
   "cell_type": "code",
   "execution_count": null,
   "metadata": {},
   "outputs": [],
   "source": [
    "xyz_token = os.environ[\"XYZ_TOKEN\"]\n",
    "xyz = XYZ(credentials=xyz_token)"
   ]
  },
  {
   "cell_type": "markdown",
   "metadata": {},
   "source": [
    "## Generate the required Data Hub space object"
   ]
  },
  {
   "cell_type": "code",
   "execution_count": null,
   "metadata": {},
   "outputs": [],
   "source": [
    "space_forest_data = xyz.spaces.from_id(\"ZManj2D5\")\n",
    "space = xyz.spaces.from_id(\"9YfUmtzQ\")"
   ]
  },
  {
   "cell_type": "markdown",
   "metadata": {},
   "source": [
    "## Generate a Country Polygon Feature List from Data Hub Space"
   ]
  },
  {
   "cell_type": "code",
   "execution_count": null,
   "metadata": {},
   "outputs": [],
   "source": [
    "from geojson import Feature, FeatureCollection\n",
    "\n",
    "features_list = []\n",
    "for feature in space.iter_feature():\n",
    "    features_list.append(feature)"
   ]
  },
  {
   "cell_type": "markdown",
   "metadata": {},
   "source": [
    "## Update each Country Polygon Feature with the Forest Fire Count in that Country"
   ]
  },
  {
   "cell_type": "code",
   "execution_count": null,
   "metadata": {},
   "outputs": [],
   "source": [
    "manager = Manager()\n",
    "country_forest_count_list = manager.list()"
   ]
  },
  {
   "cell_type": "code",
   "execution_count": null,
   "metadata": {},
   "outputs": [],
   "source": [
    "from forest_fire_analysis import _get_count_features"
   ]
  },
  {
   "cell_type": "code",
   "execution_count": null,
   "metadata": {},
   "outputs": [],
   "source": [
    "%%time\n",
    "part_func = partial(\n",
    "    _get_count_features,\n",
    "    forest_space=space_forest_data,\n",
    "    country_forest_count_list=country_forest_count_list,\n",
    ")\n",
    "with concurrent.futures.ProcessPoolExecutor() as executor:\n",
    "    for ft in executor.map(part_func, features_list, chunksize=9):\n",
    "        print(f\"features processed: {ft}\")"
   ]
  },
  {
   "cell_type": "code",
   "execution_count": null,
   "metadata": {},
   "outputs": [],
   "source": [
    "country_forest_count = list(country_forest_count_list)"
   ]
  },
  {
   "cell_type": "markdown",
   "metadata": {},
   "source": [
    "## Provide style property to each Country Polygon Feature based on the Forest Fire Count in that Country "
   ]
  },
  {
   "cell_type": "code",
   "execution_count": null,
   "metadata": {},
   "outputs": [],
   "source": [
    "count = []\n",
    "for feature in country_forest_count:\n",
    "    count.append(feature[\"properties\"][\"fire_count\"])"
   ]
  },
  {
   "cell_type": "code",
   "execution_count": null,
   "metadata": {},
   "outputs": [],
   "source": [
    "from branca.colormap import linear\n",
    "\n",
    "colormap = linear.YlOrRd_04\n",
    "\n",
    "\n",
    "colormap = colormap.scale(min(count), max(count))\n",
    "\n",
    "for feature in country_forest_count:\n",
    "    feature[\"properties\"][\"style\"] = dict(\n",
    "        fillColor=colormap(feature[\"properties\"][\"fire_count\"])[:7], color=\"black\", weight=0.9\n",
    "    )"
   ]
  },
  {
   "cell_type": "markdown",
   "metadata": {},
   "source": [
    "## Example of a Country Polygon Feature after processing"
   ]
  },
  {
   "cell_type": "code",
   "execution_count": null,
   "metadata": {},
   "outputs": [],
   "source": [
    "country_forest_count[0]"
   ]
  },
  {
   "cell_type": "markdown",
   "metadata": {},
   "source": [
    "## Plot the Country Polygon Features as Feature Collection on Here Map Widget"
   ]
  },
  {
   "cell_type": "code",
   "execution_count": null,
   "metadata": {},
   "outputs": [],
   "source": [
    "from here_map_widget import Map\n",
    "from here_map_widget import GeoJSON\n",
    "import os\n",
    "\n",
    "m = Map(api_key=os.environ[\"LS_API_KEY\"])\n",
    "geojson = GeoJSON(data=FeatureCollection(country_forest_count), disable_legacy_mode=True)\n",
    "m.add_layer(geojson)\n",
    "m"
   ]
  }
 ],
 "metadata": {
  "kernelspec": {
   "display_name": "Python 3",
   "language": "python",
   "name": "python3"
  },
  "language_info": {
   "codemirror_mode": {
    "name": "ipython",
    "version": 3
   },
   "file_extension": ".py",
   "mimetype": "text/x-python",
   "name": "python",
   "nbconvert_exporter": "python",
   "pygments_lexer": "ipython3",
   "version": "3.8.5"
  }
 },
 "nbformat": 4,
 "nbformat_minor": 4
}
